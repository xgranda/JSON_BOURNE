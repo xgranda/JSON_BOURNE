{
  "nbformat": 4,
  "nbformat_minor": 0,
  "metadata": {
    "kernelspec": {
      "display_name": "Python 3",
      "language": "python",
      "name": "python3"
    },
    "colab": {
      "name": "classication_trafficsource_timeonpage_home.ipynb",
      "provenance": [],
      "collapsed_sections": []
    }
  },
  "cells": [
    {
      "cell_type": "code",
      "metadata": {
        "id": "tJiGAErF6WNa",
        "colab_type": "code",
        "colab": {}
      },
      "source": [
        "import pandas as pd\n",
        "import numpy as np\n",
        "import datetime as datetime\n",
        "from sklearn import preprocessing\n",
        "from sklearn.ensemble import RandomForestClassifier\n",
        "from sklearn.model_selection import cross_val_score\n",
        "from sklearn.linear_model import LogisticRegression\n",
        "import matplotlib.pyplot as plt\n",
        "from sklearn.model_selection import GridSearchCV\n",
        "from sklearn.model_selection import train_test_split\n",
        "from sklearn.ensemble import GradientBoostingClassifier\n",
        "from sklearn.metrics import accuracy_score, precision_score, f1_score, confusion_matrix, recall_score\n",
        "import seaborn as sns"
      ],
      "execution_count": 0,
      "outputs": []
    },
    {
      "cell_type": "code",
      "metadata": {
        "id": "RVrLzBFL8nIJ",
        "colab_type": "code",
        "colab": {}
      },
      "source": [
        "from google.colab import drive\n",
        "drive.mount(\"/drive\")"
      ],
      "execution_count": 0,
      "outputs": []
    },
    {
      "cell_type": "code",
      "metadata": {
        "id": "8Zc2EdqM6WNe",
        "colab_type": "code",
        "colab": {}
      },
      "source": [
        "df_time = pd.read_csv(\"/drive/My Drive/Googel Analytics - Capstone/Fatema/hittime_fullyear.csv\")\n",
        "df_time = df_time.sort_values(by=['visitId', 'hitnum'])"
      ],
      "execution_count": 0,
      "outputs": []
    },
    {
      "cell_type": "code",
      "metadata": {
        "id": "t32AaihT6WNl",
        "colab_type": "code",
        "colab": {}
      },
      "source": [
        "df_time"
      ],
      "execution_count": 0,
      "outputs": []
    },
    {
      "cell_type": "markdown",
      "metadata": {
        "id": "uQlPQN6D6WNn",
        "colab_type": "text"
      },
      "source": [
        "# Create time on home page feature"
      ]
    },
    {
      "cell_type": "code",
      "metadata": {
        "id": "RDezCfmc6WNo",
        "colab_type": "code",
        "colab": {}
      },
      "source": [
        "df_time[\"totalVisitHits\"] = df_time[\"hitnum\"].groupby(df_time[\"visitId\"]).transform('count')\n",
        "df_time[\"timeOnPage\"] = df_time.hittime.diff(periods = 1)\n",
        "df_time[\"timeOnPage\"] = df_time[\"timeOnPage\"].shift(-1)\n",
        "df_time"
      ],
      "execution_count": 0,
      "outputs": []
    },
    {
      "cell_type": "code",
      "metadata": {
        "id": "mWloCPgB6WNr",
        "colab_type": "code",
        "colab": {}
      },
      "source": [
        "df_time.timeOnPage = np.where(df_time.timeOnPage < 0, 0, df_time.timeOnPage)\n",
        "df_time"
      ],
      "execution_count": 0,
      "outputs": []
    },
    {
      "cell_type": "code",
      "metadata": {
        "id": "NM2173jU6WNt",
        "colab_type": "code",
        "colab": {}
      },
      "source": [
        "df_timeOnHome = df_time[(df_time.pt == \"Home\") | (df_time.pt==\"Google Online Store\")]"
      ],
      "execution_count": 0,
      "outputs": []
    },
    {
      "cell_type": "code",
      "metadata": {
        "id": "QgnvUGe76WN0",
        "colab_type": "code",
        "colab": {}
      },
      "source": [
        "df_timeOnHome = df_timeOnHome[df_timeOnHome.hitnum == 1]"
      ],
      "execution_count": 0,
      "outputs": []
    },
    {
      "cell_type": "code",
      "metadata": {
        "id": "OrNSjGcL6WN3",
        "colab_type": "code",
        "colab": {}
      },
      "source": [
        "df_timeOnHome"
      ],
      "execution_count": 0,
      "outputs": []
    },
    {
      "cell_type": "code",
      "metadata": {
        "id": "k84QFmCM6WN6",
        "colab_type": "code",
        "colab": {}
      },
      "source": [
        "#df.loc[df.groupby(\"item\")[\"diff\"].idxmin()]"
      ],
      "execution_count": 0,
      "outputs": []
    },
    {
      "cell_type": "markdown",
      "metadata": {
        "id": "TEpGG71c6WN8",
        "colab_type": "text"
      },
      "source": [
        "# merge with traffic source data and clean up"
      ]
    },
    {
      "cell_type": "code",
      "metadata": {
        "id": "uRFkcCKK6WN9",
        "colab_type": "code",
        "colab": {}
      },
      "source": [
        "ts = pd.read_csv(\"/drive/My Drive/Googel Analytics - Capstone/Fatema/trafficSource_fullyear2.csv\")"
      ],
      "execution_count": 0,
      "outputs": []
    },
    {
      "cell_type": "code",
      "metadata": {
        "id": "ntMlBDHn6WN_",
        "colab_type": "code",
        "colab": {}
      },
      "source": [
        "ts = ts.drop([\"Unnamed: 0\", \"Unnamed: 0.1\"], axis = 1)"
      ],
      "execution_count": 0,
      "outputs": []
    },
    {
      "cell_type": "code",
      "metadata": {
        "id": "fw_zX9ZJ6WOD",
        "colab_type": "code",
        "colab": {}
      },
      "source": [
        "df_ts = ts.merge(df_timeOnHome, on = \"visitId\").drop([\"fullVisitorId_y\",\"timeOnSite_y\"], axis = 1)"
      ],
      "execution_count": 0,
      "outputs": []
    },
    {
      "cell_type": "code",
      "metadata": {
        "id": "tHwUg6zw6WOG",
        "colab_type": "code",
        "colab": {}
      },
      "source": [
        "#df_ts = df_ts.drop([\"totalVisitHits\", \"networkDomain\", \"metro\", \"city\", \"region\", \"timeOnSite_x\",\n",
        "#                   \"pageviews\", \"hits\", \"fullVisitorId_x\", \"visitId\", \"date\", \n",
        "#                  \"transactionRevenue\", \"totalTransactionRevenue\", \"sessionQualityDim\", \"continent\", \"subContinent\",\n",
        "#                   \"isMobile\", \"hitnum\", \"pt\", \"gclId\"], axis = 1)\n",
        "\n",
        "df_ts = df_ts.drop([\"metro\", \"city\", \"region\", \"timeOnSite_x\", \"totalVisitHits\",\n",
        "                    \"fullVisitorId_x\", \"visitId\", \"date\", \n",
        "                   \"transactionRevenue\", \"totalTransactionRevenue\", \"sessionQualityDim\", \"continent\", \"subContinent\",\n",
        "                    \"pt\", \"gclId\" ,\"pageviews\", \"hits\"], axis = 1)\n",
        "\n",
        "\n",
        "df_ts"
      ],
      "execution_count": 0,
      "outputs": []
    },
    {
      "cell_type": "markdown",
      "metadata": {
        "id": "1AZ8E8936WOI",
        "colab_type": "text"
      },
      "source": [
        "# Add DoW and ToD features"
      ]
    },
    {
      "cell_type": "code",
      "metadata": {
        "id": "sNx211Fp6WOJ",
        "colab_type": "code",
        "colab": {}
      },
      "source": [
        "df_ts['dow'] = df_ts.visitStartTime.apply(lambda x: datetime.datetime.strptime(x, '%m/%d/%y %H:%M').weekday())\n",
        "df_ts['hour'] = df_ts.visitStartTime   .apply(lambda x: datetime.datetime.strptime(x, '%m/%d/%y %H:%M').hour)"
      ],
      "execution_count": 0,
      "outputs": []
    },
    {
      "cell_type": "markdown",
      "metadata": {
        "id": "yYKbjNOV6WOL",
        "colab_type": "text"
      },
      "source": [
        "# Impute and drop unnecessary columns"
      ]
    },
    {
      "cell_type": "code",
      "metadata": {
        "id": "XmQGdZ2R6WOM",
        "colab_type": "code",
        "colab": {}
      },
      "source": [
        "x_or = df_ts.loc[:, df_ts.columns != 'transactions']\n",
        "y_or = df_ts.transactions\n",
        "y_or = np.where(y_or.isna(), 0, 1)\n",
        "y_or"
      ],
      "execution_count": 0,
      "outputs": []
    },
    {
      "cell_type": "code",
      "metadata": {
        "id": "fpgLOUt46WOS",
        "colab_type": "code",
        "colab": {}
      },
      "source": [
        "nacol = pd.DataFrame(x_or.isna().any()).reset_index()\n",
        "nacol.columns = ['column', 'Bool']\n",
        "nacol = nacol[nacol.Bool == True]\n",
        "nacol"
      ],
      "execution_count": 0,
      "outputs": []
    },
    {
      "cell_type": "code",
      "metadata": {
        "id": "L2kaQ8p26WOV",
        "colab_type": "code",
        "colab": {}
      },
      "source": [
        "for i in nacol.column:\n",
        "    try:\n",
        "        x_or[i] = np.where(np.isnan(x_or[i]),0, x_or[i])\n",
        "    except:\n",
        "        x_or[i] = np.where(x_or[i].isna(),\"No\", x_or[i])\n",
        "#x.isna().any()"
      ],
      "execution_count": 0,
      "outputs": []
    },
    {
      "cell_type": "code",
      "metadata": {
        "id": "gS4DmadS6WOY",
        "colab_type": "code",
        "colab": {}
      },
      "source": [
        "x_or.columns"
      ],
      "execution_count": 0,
      "outputs": []
    },
    {
      "cell_type": "markdown",
      "metadata": {
        "id": "jwMMk64E6WOd",
        "colab_type": "text"
      },
      "source": [
        "# Label encode categoricals"
      ]
    },
    {
      "cell_type": "code",
      "metadata": {
        "id": "i28QxTMs6WOf",
        "colab_type": "code",
        "colab": {}
      },
      "source": [
        "#xcat = ['channelGrouping', 'referralPath',\n",
        " #      'campaign', 'source', 'medium', 'keyword', 'adContent', 'page', 'slot',\n",
        " #      'adNetworkType', 'browser', 'operatingSystem', 'deviceCategory',\n",
        "  #     'country','dow', 'hour']\n",
        "\n",
        "xcat = ['channelGrouping',\n",
        "       'referralPath', 'campaign', 'source', 'medium', 'keyword', 'adContent',\n",
        "       'page', 'slot', 'adNetworkType', 'browser', 'operatingSystem',\n",
        "       'isMobile', 'deviceCategory', 'country', 'networkDomain', 'dow', 'hour']\n",
        "      \n",
        "\n",
        "xcat"
      ],
      "execution_count": 0,
      "outputs": []
    },
    {
      "cell_type": "code",
      "metadata": {
        "id": "Le2brh2_6WOk",
        "colab_type": "code",
        "colab": {}
      },
      "source": [
        "le = preprocessing.LabelEncoder()\n",
        "\n",
        "for i in xcat:\n",
        "    x_or[i] = le.fit_transform(x_or[i])"
      ],
      "execution_count": 0,
      "outputs": []
    },
    {
      "cell_type": "code",
      "metadata": {
        "id": "xcsRlChW6WOn",
        "colab_type": "code",
        "colab": {}
      },
      "source": [
        "x_or = x_or.drop([\"visitStartTime\"], axis = 1)"
      ],
      "execution_count": 0,
      "outputs": []
    },
    {
      "cell_type": "code",
      "metadata": {
        "id": "XArkgH3p6WOp",
        "colab_type": "code",
        "colab": {}
      },
      "source": [
        "x_or"
      ],
      "execution_count": 0,
      "outputs": []
    },
    {
      "cell_type": "code",
      "metadata": {
        "id": "jmFsSuxjnk5f",
        "colab_type": "code",
        "colab": {}
      },
      "source": [
        "x, x_test, y, y_test = train_test_split(x_or, y_or, test_size=0.3, random_state=0)"
      ],
      "execution_count": 0,
      "outputs": []
    },
    {
      "cell_type": "markdown",
      "metadata": {
        "id": "HwfiaSEn6WOr",
        "colab_type": "text"
      },
      "source": [
        "# Random Forest Classifier"
      ]
    },
    {
      "cell_type": "code",
      "metadata": {
        "id": "6OzCGler6WOs",
        "colab_type": "code",
        "colab": {}
      },
      "source": [
        "rf = RandomForestClassifier(n_estimators= 7)\n",
        "rf.fit(x, y) "
      ],
      "execution_count": 0,
      "outputs": []
    },
    {
      "cell_type": "code",
      "metadata": {
        "id": "QS69j43C6WOu",
        "colab_type": "code",
        "colab": {}
      },
      "source": [
        "ypred_test = rf.predict(x_test)"
      ],
      "execution_count": 0,
      "outputs": []
    },
    {
      "cell_type": "code",
      "metadata": {
        "id": "nrW04aDcoMno",
        "colab_type": "code",
        "colab": {}
      },
      "source": [
        "print('Accuracy Score : ' + str(accuracy_score(y_test,ypred_test)))\n",
        "print('Precision Score : ' + str(precision_score(y_test,ypred_test)))\n",
        "print('F1 Score : ' + str(f1_score(y_test,ypred_test)))\n",
        "\n",
        "\n",
        "\n",
        "# nest =10\n",
        "#Accuracy Score : 0.9873223224005292\n",
        "#Precision Score : 0.40064102564102566\n",
        "#F1 Score : 0.17041581458759372\n",
        "\n",
        "# nest =7\n",
        "#Accuracy Score : 0.9867493788771349\n",
        "#Precision Score : 0.39246323529411764\n",
        "#F1 Score : 0.2513243084167157"
      ],
      "execution_count": 0,
      "outputs": []
    },
    {
      "cell_type": "code",
      "metadata": {
        "id": "cHDaDdBcydyN",
        "colab_type": "code",
        "colab": {}
      },
      "source": [
        "scores = cross_val_score(rf, x, y, scoring = \"precision\", cv=5)\n",
        "scores"
      ],
      "execution_count": 0,
      "outputs": []
    },
    {
      "cell_type": "markdown",
      "metadata": {
        "id": "vDpVJfOV6WOw",
        "colab_type": "text"
      },
      "source": [
        "# RF Confusion Matrix"
      ]
    },
    {
      "cell_type": "code",
      "metadata": {
        "id": "cqE_8eI16WO8",
        "colab_type": "code",
        "colab": {}
      },
      "source": [
        "ypred = rf.predict(x)\n",
        "confusion_matrix(y_test, ypred_test)"
      ],
      "execution_count": 0,
      "outputs": []
    },
    {
      "cell_type": "markdown",
      "metadata": {
        "id": "GWnM8cTS6WO-",
        "colab_type": "text"
      },
      "source": [
        "# RF feature importances"
      ]
    },
    {
      "cell_type": "code",
      "metadata": {
        "id": "qbY4qb6m6WO_",
        "colab_type": "code",
        "colab": {}
      },
      "source": [
        "pd.Series(rf.feature_importances_, index=x.columns).sort_values(ascending=False)"
      ],
      "execution_count": 0,
      "outputs": []
    },
    {
      "cell_type": "markdown",
      "metadata": {
        "id": "26KbYqhZ6WPC",
        "colab_type": "text"
      },
      "source": [
        "# RF Probabilities"
      ]
    },
    {
      "cell_type": "code",
      "metadata": {
        "id": "5cBCyKhC6WPD",
        "colab_type": "code",
        "colab": {}
      },
      "source": [
        "yproba_rf = rf.predict_proba(x_test)\n",
        "yproba_rf = yproba_rf[:,1]"
      ],
      "execution_count": 0,
      "outputs": []
    },
    {
      "cell_type": "code",
      "metadata": {
        "id": "viEzAL1B90jC",
        "colab_type": "code",
        "colab": {}
      },
      "source": [
        "for i in list(range(0,99,10)):\n",
        "    i = i/100\n",
        "    yproba_rf = rf.predict_proba(x_test)\n",
        "    yproba_rf = yproba_rf[:,1]\n",
        "    yproba_rf[yproba_rf>i] = 1\n",
        "    yproba_rf[yproba_rf<=i] = 0\n",
        "    #print(i, \" \", precision_score(y, yproba_rf))   \n",
        "    print(i, \" \",precision_score(y_test,yproba_rf), recall_score(y_test,yproba_rf), f1_score(y_test, yproba_rf))\n",
        "    #print cut off and false results"
      ],
      "execution_count": 0,
      "outputs": []
    },
    {
      "cell_type": "code",
      "metadata": {
        "id": "_RqAaMfe-rZc",
        "colab_type": "code",
        "colab": {}
      },
      "source": [
        "yproba_rf = rf.predict_proba(x_test)\n",
        "yproba_rf = yproba_rf[:,1]\n",
        "yproba_rf[yproba_rf>0.1] = 1\n",
        "yproba_rf[yproba_rf<0.1] = 0\n",
        "\n",
        "print(precision_score(y_test,yproba_rf))\n",
        "a = confusion_matrix(y_test, yproba_rf)\n",
        "print(a)"
      ],
      "execution_count": 0,
      "outputs": []
    },
    {
      "cell_type": "markdown",
      "metadata": {
        "id": "rHgyDwNd6WPL",
        "colab_type": "text"
      },
      "source": [
        "# Grid search"
      ]
    },
    {
      "cell_type": "code",
      "metadata": {
        "id": "VryPasW_6WPR",
        "colab_type": "code",
        "colab": {}
      },
      "source": [
        "rf = RandomForestClassifier()\n",
        "\n",
        "param_grid = { \n",
        "    'n_estimators': list(range(2,30,10)),\n",
        "    'max_features': ['auto'], \n",
        "    'max_depth': list(range(3,15)),  \n",
        "}\n",
        " \n",
        "np.random.seed(0)\n",
        "grid_search = GridSearchCV(rf,param_grid, cv=5,return_train_score=True, n_jobs = -1, verbose = True)\n",
        "grid_search.fit(x,y)"
      ],
      "execution_count": 0,
      "outputs": []
    },
    {
      "cell_type": "code",
      "metadata": {
        "id": "DxRA9W90bXhw",
        "colab_type": "code",
        "colab": {}
      },
      "source": [
        "ypred_test = grid_search.predict(x_test)\n",
        "confusion_matrix(y_test, ypred_test)"
      ],
      "execution_count": 0,
      "outputs": []
    },
    {
      "cell_type": "code",
      "metadata": {
        "id": "ucE20tuZeOFL",
        "colab_type": "code",
        "colab": {}
      },
      "source": [
        "print('Accuracy Score : ' + str(accuracy_score(y,ypred)))\n",
        "print('Precision Score : ' + str(precision_score(y,ypred)))\n",
        "print('F1 Score : ' + str(f1_score(y,ypred)))"
      ],
      "execution_count": 0,
      "outputs": []
    },
    {
      "cell_type": "code",
      "metadata": {
        "id": "ONMVb0PLkecc",
        "colab_type": "code",
        "colab": {}
      },
      "source": [
        "grid_search.best_params_"
      ],
      "execution_count": 0,
      "outputs": []
    },
    {
      "cell_type": "code",
      "metadata": {
        "id": "eTHoyo-tll1K",
        "colab_type": "code",
        "colab": {}
      },
      "source": [
        "for i in list(range(0,99,10)):\n",
        "    i = i/100\n",
        "    yproba_rf = grid_search.predict_proba(x_test)\n",
        "    yproba_rf = yproba_rf[:,1]\n",
        "    yproba_rf[yproba_rf>i] = 1\n",
        "    yproba_rf[yproba_rf<=i] = 0\n",
        "    #print(i, \" \", precision_score(y, yproba_rf))   \n",
        "    print(i, \" \",precision_score(y_test,yproba_rf), recall_score(y_test,yproba_rf), f1_score(y_test, yproba_rf))\n",
        "    #print cut off and false results"
      ],
      "execution_count": 0,
      "outputs": []
    },
    {
      "cell_type": "code",
      "metadata": {
        "id": "DvpAMiy90i8w",
        "colab_type": "code",
        "colab": {}
      },
      "source": [
        "yproba_rf = grid_search.predict_proba(x_test)\n",
        "yproba_rf = yproba_rf[:,1]\n",
        "yproba_rf[yproba_rf>0.2] = 1\n",
        "yproba_rf[yproba_rf<=0.2] = 0\n",
        "\n",
        "rf_acc = accuracy_score(y_test,yproba_rf)\n",
        "rf_pscore = precision_score(y_test,yproba_rf)\n",
        "rf_recall = recall_score(y_test,yproba_rf)\n",
        "rf_f1 = f1_score(y_test,yproba_rf)"
      ],
      "execution_count": 0,
      "outputs": []
    },
    {
      "cell_type": "code",
      "metadata": {
        "id": "lyxz_deR4gr9",
        "colab_type": "code",
        "colab": {}
      },
      "source": [
        "bestrf = grid_search.best_estimator_\n",
        "rf_fi = pd.Series(bestrf.feature_importances_, index=x.columns).sort_values(ascending=False)\n",
        "rf_fi"
      ],
      "execution_count": 0,
      "outputs": []
    },
    {
      "cell_type": "markdown",
      "metadata": {
        "id": "CdAGy_4HG_kF",
        "colab_type": "text"
      },
      "source": [
        "# Boost"
      ]
    },
    {
      "cell_type": "code",
      "metadata": {
        "id": "Y0SCpORWG6a8",
        "colab_type": "code",
        "colab": {}
      },
      "source": [
        "np.random.seed(0)\n",
        "param_grid = [\n",
        "    {'subsample':[0.5,1],\n",
        "    'learning_rate':[0.025,0.05,0.1],\n",
        "    'max_depth':[2,3,4],\n",
        "    'n_estimators':list(range(2,30,10))}]\n",
        "boost = GradientBoostingClassifier()\n",
        "boostgs = GridSearchCV(boost,param_grid, cv=5, scoring='f1',return_train_score=True, n_jobs=-1)\n",
        "np.random.seed(0)\n",
        "boostgs.fit(x,y)"
      ],
      "execution_count": 0,
      "outputs": []
    },
    {
      "cell_type": "code",
      "metadata": {
        "id": "ukDQQ-aHIOlk",
        "colab_type": "code",
        "colab": {}
      },
      "source": [
        "ypred_boost_test=boostgs.predict(x_test)\n",
        "\n",
        "print('Accuracy Score : ' + str(accuracy_score(y_test,ypred_boost_test)))\n",
        "print('Precision Score : ' + str(precision_score(y_test,ypred_boost_test)))\n",
        "print('F1 Score : ' + str(f1_score(y_test,ypred_boost_test)))\n",
        "\n",
        "print(confusion_matrix(y_test, ypred_boost_test))"
      ],
      "execution_count": 0,
      "outputs": []
    },
    {
      "cell_type": "markdown",
      "metadata": {
        "id": "KVyet3b6InEz",
        "colab_type": "text"
      },
      "source": [
        "-------"
      ]
    },
    {
      "cell_type": "code",
      "metadata": {
        "id": "ejCNvcOWMNG2",
        "colab_type": "code",
        "colab": {}
      },
      "source": [
        "for i in list(range(0,99,10)):\n",
        "    i = i/100\n",
        "    yproba_gb = boostgs.predict_proba(x_test)\n",
        "    yproba_gb = yproba_gb[:,1]\n",
        "    yproba_gb[yproba_gb>i] = 1\n",
        "    yproba_gb[yproba_gb<=i] = 0\n",
        "    #print(i, \" \", precision_score(y, yproba_rf))   \n",
        "    print(i, \" \", precision_score(y_test,yproba_gb), recall_score(y_test,yproba_gb) ,f1_score(y_test, yproba_gb))\n",
        "    #print cut off and false results"
      ],
      "execution_count": 0,
      "outputs": []
    },
    {
      "cell_type": "code",
      "metadata": {
        "id": "yfZYlARAzf0c",
        "colab_type": "code",
        "colab": {}
      },
      "source": [
        "yproba_gb = boostgs.predict_proba(x_test)\n",
        "yproba_gb = yproba_gb[:,1]\n",
        "yproba_gb[yproba_gb>0.1] = 1\n",
        "yproba_gb[yproba_gb<=0.1] = 0\n",
        "\n",
        "gb_acc = accuracy_score(y_test,yproba_gb)\n",
        "gb_pscore = precision_score(y_test,yproba_gb)\n",
        "gb_recall = recall_score(y_test,yproba_gb)\n",
        "gb_f1 = f1_score(y_test,yproba_gb)"
      ],
      "execution_count": 0,
      "outputs": []
    },
    {
      "cell_type": "code",
      "metadata": {
        "id": "MFRzgXfOS-bP",
        "colab_type": "code",
        "colab": {}
      },
      "source": [
        "gb_pscore"
      ],
      "execution_count": 0,
      "outputs": []
    },
    {
      "cell_type": "code",
      "metadata": {
        "id": "Sy9OzzbP5owC",
        "colab_type": "code",
        "colab": {}
      },
      "source": [
        "bestboost = boostgs.best_estimator_\n",
        "boost_fi = pd.Series(bestboost.feature_importances_, index=x.columns).sort_values(ascending=False)\n",
        "boost_fi = pd.DataFrame(boost_fi)\n",
        "boost_fi = boost_fi.reset_index()\n",
        "boost_fi.columns = [\"Features\", \"Importances\"]\n",
        "\n",
        "sns.barplot(x=\"Importances\", y=\"Features\",  data=boost_fi)"
      ],
      "execution_count": 0,
      "outputs": []
    },
    {
      "cell_type": "markdown",
      "metadata": {
        "id": "5aDFGVBPzWdF",
        "colab_type": "text"
      },
      "source": [
        "#Scores"
      ]
    },
    {
      "cell_type": "code",
      "metadata": {
        "id": "SdE47TXTzSdK",
        "colab_type": "code",
        "colab": {}
      },
      "source": [
        "scores = pd.DataFrame({'Type':['Accuracy', 'Precision', 'Recall', 'F1'], 'Random Forest':[rf_acc, rf_pscore, rf_recall, rf_f1], \n",
        "                       \"GB\": [gb_acc, gb_pscore, gb_recall, gb_f1]})\n",
        "scores = pd.melt(scores, id_vars = \"Type\", value_vars=['Random Forest', 'GB'])\n",
        "scores.columns = [\"Type\", \"Model\", \"Score\"]\n",
        "print(scores)"
      ],
      "execution_count": 0,
      "outputs": []
    },
    {
      "cell_type": "code",
      "metadata": {
        "id": "xWM1FezsSxpD",
        "colab_type": "code",
        "colab": {}
      },
      "source": [
        "sns.set(style=\"whitegrid\")\n",
        "sns.despine()\n",
        "sns.barplot(x=\"Score\", y=\"Type\", hue = \"Model\", palette = \"hls\", data=scores)\n"
      ],
      "execution_count": 0,
      "outputs": []
    }
  ]
}