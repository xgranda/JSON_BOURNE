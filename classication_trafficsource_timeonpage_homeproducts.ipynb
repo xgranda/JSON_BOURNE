{
  "nbformat": 4,
  "nbformat_minor": 0,
  "metadata": {
    "kernelspec": {
      "display_name": "Python 3",
      "language": "python",
      "name": "python3"
    },
    "colab": {
      "name": "classication_trafficsource_timeonpage_homeproducts.ipynb",
      "provenance": [],
      "collapsed_sections": []
    }
  },
  "cells": [
    {
      "cell_type": "code",
      "metadata": {
        "id": "tJiGAErF6WNa",
        "colab_type": "code",
        "colab": {}
      },
      "source": [
        "import pandas as pd\n",
        "import numpy as np\n",
        "import datetime as datetime\n",
        "from sklearn import preprocessing\n",
        "from sklearn.ensemble import RandomForestClassifier\n",
        "from sklearn.model_selection import cross_val_score\n",
        "from sklearn.linear_model import LogisticRegression\n",
        "import matplotlib.pyplot as plt\n",
        "from sklearn.model_selection import GridSearchCV\n",
        "from sklearn.model_selection import train_test_split\n",
        "from sklearn.ensemble import GradientBoostingClassifier\n",
        "from sklearn.metrics import accuracy_score, precision_score, f1_score, confusion_matrix, recall_score\n",
        "import seaborn as sns"
      ],
      "execution_count": 0,
      "outputs": []
    },
    {
      "cell_type": "code",
      "metadata": {
        "id": "RVrLzBFL8nIJ",
        "colab_type": "code",
        "outputId": "21843bc5-3238-456a-f2d5-88db7f54048a",
        "colab": {
          "base_uri": "https://localhost:8080/",
          "height": 34
        }
      },
      "source": [
        "from google.colab import drive\n",
        "drive.mount(\"/drive\")"
      ],
      "execution_count": 81,
      "outputs": [
        {
          "output_type": "stream",
          "text": [
            "Drive already mounted at /drive; to attempt to forcibly remount, call drive.mount(\"/drive\", force_remount=True).\n"
          ],
          "name": "stdout"
        }
      ]
    },
    {
      "cell_type": "code",
      "metadata": {
        "id": "8Zc2EdqM6WNe",
        "colab_type": "code",
        "outputId": "1c9e3b37-16b7-49f6-a12c-8c3b33eeea05",
        "colab": {
          "base_uri": "https://localhost:8080/",
          "height": 72
        }
      },
      "source": [
        "df_time = pd.read_csv(\"/drive/My Drive/Googel Analytics - Capstone/Fatema/hittime_fullyear.csv\")\n",
        "df_time = df_time.sort_values(by=['visitId', 'hitnum'])"
      ],
      "execution_count": 82,
      "outputs": [
        {
          "output_type": "stream",
          "text": [
            "/usr/local/lib/python3.6/dist-packages/IPython/core/interactiveshell.py:2718: DtypeWarning: Columns (0) have mixed types. Specify dtype option on import or set low_memory=False.\n",
            "  interactivity=interactivity, compiler=compiler, result=result)\n"
          ],
          "name": "stderr"
        }
      ]
    },
    {
      "cell_type": "code",
      "metadata": {
        "id": "t32AaihT6WNl",
        "colab_type": "code",
        "outputId": "ea72d1ec-b51d-46c6-ae6e-2f8f67747aaa",
        "colab": {
          "base_uri": "https://localhost:8080/",
          "height": 416
        }
      },
      "source": [
        "df_time"
      ],
      "execution_count": 83,
      "outputs": [
        {
          "output_type": "execute_result",
          "data": {
            "text/html": [
              "<div>\n",
              "<style scoped>\n",
              "    .dataframe tbody tr th:only-of-type {\n",
              "        vertical-align: middle;\n",
              "    }\n",
              "\n",
              "    .dataframe tbody tr th {\n",
              "        vertical-align: top;\n",
              "    }\n",
              "\n",
              "    .dataframe thead th {\n",
              "        text-align: right;\n",
              "    }\n",
              "</style>\n",
              "<table border=\"1\" class=\"dataframe\">\n",
              "  <thead>\n",
              "    <tr style=\"text-align: right;\">\n",
              "      <th></th>\n",
              "      <th>fullVisitorId</th>\n",
              "      <th>visitId</th>\n",
              "      <th>timeOnSite</th>\n",
              "      <th>hittime</th>\n",
              "      <th>hitnum</th>\n",
              "      <th>pt</th>\n",
              "    </tr>\n",
              "  </thead>\n",
              "  <tbody>\n",
              "    <tr>\n",
              "      <th>355344</th>\n",
              "      <td>423043652415339154</td>\n",
              "      <td>1470034812</td>\n",
              "      <td>NaN</td>\n",
              "      <td>0</td>\n",
              "      <td>1</td>\n",
              "      <td>Google</td>\n",
              "    </tr>\n",
              "    <tr>\n",
              "      <th>355345</th>\n",
              "      <td>8294721032567046680</td>\n",
              "      <td>1470035066</td>\n",
              "      <td>NaN</td>\n",
              "      <td>0</td>\n",
              "      <td>1</td>\n",
              "      <td>Home</td>\n",
              "    </tr>\n",
              "    <tr>\n",
              "      <th>355346</th>\n",
              "      <td>7718623669497357235</td>\n",
              "      <td>1470035081</td>\n",
              "      <td>40.0</td>\n",
              "      <td>0</td>\n",
              "      <td>1</td>\n",
              "      <td>Home</td>\n",
              "    </tr>\n",
              "    <tr>\n",
              "      <th>355347</th>\n",
              "      <td>7718623669497357235</td>\n",
              "      <td>1470035081</td>\n",
              "      <td>40.0</td>\n",
              "      <td>11332</td>\n",
              "      <td>2</td>\n",
              "      <td>Store search results</td>\n",
              "    </tr>\n",
              "    <tr>\n",
              "      <th>355348</th>\n",
              "      <td>7718623669497357235</td>\n",
              "      <td>1470035081</td>\n",
              "      <td>40.0</td>\n",
              "      <td>16113</td>\n",
              "      <td>3</td>\n",
              "      <td>Home</td>\n",
              "    </tr>\n",
              "    <tr>\n",
              "      <th>...</th>\n",
              "      <td>...</td>\n",
              "      <td>...</td>\n",
              "      <td>...</td>\n",
              "      <td>...</td>\n",
              "      <td>...</td>\n",
              "      <td>...</td>\n",
              "    </tr>\n",
              "    <tr>\n",
              "      <th>3432075</th>\n",
              "      <td>9952572636180683443</td>\n",
              "      <td>1501657166</td>\n",
              "      <td>21.0</td>\n",
              "      <td>0</td>\n",
              "      <td>1</td>\n",
              "      <td>Google Online Store</td>\n",
              "    </tr>\n",
              "    <tr>\n",
              "      <th>3432076</th>\n",
              "      <td>9952572636180683443</td>\n",
              "      <td>1501657166</td>\n",
              "      <td>21.0</td>\n",
              "      <td>20676</td>\n",
              "      <td>2</td>\n",
              "      <td>Home</td>\n",
              "    </tr>\n",
              "    <tr>\n",
              "      <th>3432077</th>\n",
              "      <td>3800266955937177725</td>\n",
              "      <td>1501657186</td>\n",
              "      <td>NaN</td>\n",
              "      <td>0</td>\n",
              "      <td>1</td>\n",
              "      <td>YouTube | Shop by Brand | Google Merchandise S...</td>\n",
              "    </tr>\n",
              "    <tr>\n",
              "      <th>3432078</th>\n",
              "      <td>6344531343964394726</td>\n",
              "      <td>1501657190</td>\n",
              "      <td>NaN</td>\n",
              "      <td>0</td>\n",
              "      <td>1</td>\n",
              "      <td>YouTube | Shop by Brand | Google Merchandise S...</td>\n",
              "    </tr>\n",
              "    <tr>\n",
              "      <th>3432079</th>\n",
              "      <td>7645272421886342166</td>\n",
              "      <td>1501657193</td>\n",
              "      <td>NaN</td>\n",
              "      <td>0</td>\n",
              "      <td>1</td>\n",
              "      <td>Google Online Store</td>\n",
              "    </tr>\n",
              "  </tbody>\n",
              "</table>\n",
              "<p>4153675 rows × 6 columns</p>\n",
              "</div>"
            ],
            "text/plain": [
              "               fullVisitorId  ...                                                 pt\n",
              "355344    423043652415339154  ...                                             Google\n",
              "355345   8294721032567046680  ...                                               Home\n",
              "355346   7718623669497357235  ...                                               Home\n",
              "355347   7718623669497357235  ...                               Store search results\n",
              "355348   7718623669497357235  ...                                               Home\n",
              "...                      ...  ...                                                ...\n",
              "3432075  9952572636180683443  ...                                Google Online Store\n",
              "3432076  9952572636180683443  ...                                               Home\n",
              "3432077  3800266955937177725  ...  YouTube | Shop by Brand | Google Merchandise S...\n",
              "3432078  6344531343964394726  ...  YouTube | Shop by Brand | Google Merchandise S...\n",
              "3432079  7645272421886342166  ...                                Google Online Store\n",
              "\n",
              "[4153675 rows x 6 columns]"
            ]
          },
          "metadata": {
            "tags": []
          },
          "execution_count": 83
        }
      ]
    },
    {
      "cell_type": "code",
      "metadata": {
        "id": "ASCw5TJggB4W",
        "colab_type": "code",
        "colab": {}
      },
      "source": [
        "df_pages = df_time[\"pt\"].str.split(\"|\", expand = True) \n",
        "df_time[\"page1\"] = df_pages[1]\n",
        "df_time['page2'] = df_pages[2]\n",
        "df_time['page3'] = df_pages[3]"
      ],
      "execution_count": 0,
      "outputs": []
    },
    {
      "cell_type": "markdown",
      "metadata": {
        "id": "uQlPQN6D6WNn",
        "colab_type": "text"
      },
      "source": [
        "# Create time on home page feature"
      ]
    },
    {
      "cell_type": "code",
      "metadata": {
        "id": "RDezCfmc6WNo",
        "colab_type": "code",
        "outputId": "d53000ba-f64e-44ae-9376-66b359c0a89e",
        "colab": {
          "base_uri": "https://localhost:8080/",
          "height": 485
        }
      },
      "source": [
        "df_time[\"totalVisitHits\"] = df_time[\"hitnum\"].groupby(df_time[\"visitId\"]).transform('count')\n",
        "df_time[\"timeOnPage\"] = df_time.hittime.diff(periods = 1)\n",
        "df_time[\"timeOnPage\"] = df_time[\"timeOnPage\"].shift(-1)\n",
        "df_time"
      ],
      "execution_count": 85,
      "outputs": [
        {
          "output_type": "execute_result",
          "data": {
            "text/html": [
              "<div>\n",
              "<style scoped>\n",
              "    .dataframe tbody tr th:only-of-type {\n",
              "        vertical-align: middle;\n",
              "    }\n",
              "\n",
              "    .dataframe tbody tr th {\n",
              "        vertical-align: top;\n",
              "    }\n",
              "\n",
              "    .dataframe thead th {\n",
              "        text-align: right;\n",
              "    }\n",
              "</style>\n",
              "<table border=\"1\" class=\"dataframe\">\n",
              "  <thead>\n",
              "    <tr style=\"text-align: right;\">\n",
              "      <th></th>\n",
              "      <th>fullVisitorId</th>\n",
              "      <th>visitId</th>\n",
              "      <th>timeOnSite</th>\n",
              "      <th>hittime</th>\n",
              "      <th>hitnum</th>\n",
              "      <th>pt</th>\n",
              "      <th>page1</th>\n",
              "      <th>page2</th>\n",
              "      <th>page3</th>\n",
              "      <th>totalVisitHits</th>\n",
              "      <th>timeOnPage</th>\n",
              "    </tr>\n",
              "  </thead>\n",
              "  <tbody>\n",
              "    <tr>\n",
              "      <th>355344</th>\n",
              "      <td>423043652415339154</td>\n",
              "      <td>1470034812</td>\n",
              "      <td>NaN</td>\n",
              "      <td>0</td>\n",
              "      <td>1</td>\n",
              "      <td>Google</td>\n",
              "      <td>None</td>\n",
              "      <td>None</td>\n",
              "      <td>None</td>\n",
              "      <td>1</td>\n",
              "      <td>0.0</td>\n",
              "    </tr>\n",
              "    <tr>\n",
              "      <th>355345</th>\n",
              "      <td>8294721032567046680</td>\n",
              "      <td>1470035066</td>\n",
              "      <td>NaN</td>\n",
              "      <td>0</td>\n",
              "      <td>1</td>\n",
              "      <td>Home</td>\n",
              "      <td>None</td>\n",
              "      <td>None</td>\n",
              "      <td>None</td>\n",
              "      <td>1</td>\n",
              "      <td>0.0</td>\n",
              "    </tr>\n",
              "    <tr>\n",
              "      <th>355346</th>\n",
              "      <td>7718623669497357235</td>\n",
              "      <td>1470035081</td>\n",
              "      <td>40.0</td>\n",
              "      <td>0</td>\n",
              "      <td>1</td>\n",
              "      <td>Home</td>\n",
              "      <td>None</td>\n",
              "      <td>None</td>\n",
              "      <td>None</td>\n",
              "      <td>5</td>\n",
              "      <td>11332.0</td>\n",
              "    </tr>\n",
              "    <tr>\n",
              "      <th>355347</th>\n",
              "      <td>7718623669497357235</td>\n",
              "      <td>1470035081</td>\n",
              "      <td>40.0</td>\n",
              "      <td>11332</td>\n",
              "      <td>2</td>\n",
              "      <td>Store search results</td>\n",
              "      <td>None</td>\n",
              "      <td>None</td>\n",
              "      <td>None</td>\n",
              "      <td>5</td>\n",
              "      <td>4781.0</td>\n",
              "    </tr>\n",
              "    <tr>\n",
              "      <th>355348</th>\n",
              "      <td>7718623669497357235</td>\n",
              "      <td>1470035081</td>\n",
              "      <td>40.0</td>\n",
              "      <td>16113</td>\n",
              "      <td>3</td>\n",
              "      <td>Home</td>\n",
              "      <td>None</td>\n",
              "      <td>None</td>\n",
              "      <td>None</td>\n",
              "      <td>5</td>\n",
              "      <td>19596.0</td>\n",
              "    </tr>\n",
              "    <tr>\n",
              "      <th>...</th>\n",
              "      <td>...</td>\n",
              "      <td>...</td>\n",
              "      <td>...</td>\n",
              "      <td>...</td>\n",
              "      <td>...</td>\n",
              "      <td>...</td>\n",
              "      <td>...</td>\n",
              "      <td>...</td>\n",
              "      <td>...</td>\n",
              "      <td>...</td>\n",
              "      <td>...</td>\n",
              "    </tr>\n",
              "    <tr>\n",
              "      <th>3432075</th>\n",
              "      <td>9952572636180683443</td>\n",
              "      <td>1501657166</td>\n",
              "      <td>21.0</td>\n",
              "      <td>0</td>\n",
              "      <td>1</td>\n",
              "      <td>Google Online Store</td>\n",
              "      <td>None</td>\n",
              "      <td>None</td>\n",
              "      <td>None</td>\n",
              "      <td>2</td>\n",
              "      <td>20676.0</td>\n",
              "    </tr>\n",
              "    <tr>\n",
              "      <th>3432076</th>\n",
              "      <td>9952572636180683443</td>\n",
              "      <td>1501657166</td>\n",
              "      <td>21.0</td>\n",
              "      <td>20676</td>\n",
              "      <td>2</td>\n",
              "      <td>Home</td>\n",
              "      <td>None</td>\n",
              "      <td>None</td>\n",
              "      <td>None</td>\n",
              "      <td>2</td>\n",
              "      <td>-20676.0</td>\n",
              "    </tr>\n",
              "    <tr>\n",
              "      <th>3432077</th>\n",
              "      <td>3800266955937177725</td>\n",
              "      <td>1501657186</td>\n",
              "      <td>NaN</td>\n",
              "      <td>0</td>\n",
              "      <td>1</td>\n",
              "      <td>YouTube | Shop by Brand | Google Merchandise S...</td>\n",
              "      <td>Shop by Brand</td>\n",
              "      <td>Google Merchandise Store</td>\n",
              "      <td>None</td>\n",
              "      <td>1</td>\n",
              "      <td>0.0</td>\n",
              "    </tr>\n",
              "    <tr>\n",
              "      <th>3432078</th>\n",
              "      <td>6344531343964394726</td>\n",
              "      <td>1501657190</td>\n",
              "      <td>NaN</td>\n",
              "      <td>0</td>\n",
              "      <td>1</td>\n",
              "      <td>YouTube | Shop by Brand | Google Merchandise S...</td>\n",
              "      <td>Shop by Brand</td>\n",
              "      <td>Google Merchandise Store</td>\n",
              "      <td>None</td>\n",
              "      <td>1</td>\n",
              "      <td>0.0</td>\n",
              "    </tr>\n",
              "    <tr>\n",
              "      <th>3432079</th>\n",
              "      <td>7645272421886342166</td>\n",
              "      <td>1501657193</td>\n",
              "      <td>NaN</td>\n",
              "      <td>0</td>\n",
              "      <td>1</td>\n",
              "      <td>Google Online Store</td>\n",
              "      <td>None</td>\n",
              "      <td>None</td>\n",
              "      <td>None</td>\n",
              "      <td>1</td>\n",
              "      <td>NaN</td>\n",
              "    </tr>\n",
              "  </tbody>\n",
              "</table>\n",
              "<p>4153675 rows × 11 columns</p>\n",
              "</div>"
            ],
            "text/plain": [
              "               fullVisitorId     visitId  ...  totalVisitHits  timeOnPage\n",
              "355344    423043652415339154  1470034812  ...               1         0.0\n",
              "355345   8294721032567046680  1470035066  ...               1         0.0\n",
              "355346   7718623669497357235  1470035081  ...               5     11332.0\n",
              "355347   7718623669497357235  1470035081  ...               5      4781.0\n",
              "355348   7718623669497357235  1470035081  ...               5     19596.0\n",
              "...                      ...         ...  ...             ...         ...\n",
              "3432075  9952572636180683443  1501657166  ...               2     20676.0\n",
              "3432076  9952572636180683443  1501657166  ...               2    -20676.0\n",
              "3432077  3800266955937177725  1501657186  ...               1         0.0\n",
              "3432078  6344531343964394726  1501657190  ...               1         0.0\n",
              "3432079  7645272421886342166  1501657193  ...               1         NaN\n",
              "\n",
              "[4153675 rows x 11 columns]"
            ]
          },
          "metadata": {
            "tags": []
          },
          "execution_count": 85
        }
      ]
    },
    {
      "cell_type": "code",
      "metadata": {
        "id": "mWloCPgB6WNr",
        "colab_type": "code",
        "outputId": "0faa598b-3d49-444e-fedb-f6cfa76bfbd8",
        "colab": {
          "base_uri": "https://localhost:8080/",
          "height": 485
        }
      },
      "source": [
        "df_time.timeOnPage = np.where(df_time.timeOnPage < 0, 0, df_time.timeOnPage)\n",
        "df_time"
      ],
      "execution_count": 86,
      "outputs": [
        {
          "output_type": "execute_result",
          "data": {
            "text/html": [
              "<div>\n",
              "<style scoped>\n",
              "    .dataframe tbody tr th:only-of-type {\n",
              "        vertical-align: middle;\n",
              "    }\n",
              "\n",
              "    .dataframe tbody tr th {\n",
              "        vertical-align: top;\n",
              "    }\n",
              "\n",
              "    .dataframe thead th {\n",
              "        text-align: right;\n",
              "    }\n",
              "</style>\n",
              "<table border=\"1\" class=\"dataframe\">\n",
              "  <thead>\n",
              "    <tr style=\"text-align: right;\">\n",
              "      <th></th>\n",
              "      <th>fullVisitorId</th>\n",
              "      <th>visitId</th>\n",
              "      <th>timeOnSite</th>\n",
              "      <th>hittime</th>\n",
              "      <th>hitnum</th>\n",
              "      <th>pt</th>\n",
              "      <th>page1</th>\n",
              "      <th>page2</th>\n",
              "      <th>page3</th>\n",
              "      <th>totalVisitHits</th>\n",
              "      <th>timeOnPage</th>\n",
              "    </tr>\n",
              "  </thead>\n",
              "  <tbody>\n",
              "    <tr>\n",
              "      <th>355344</th>\n",
              "      <td>423043652415339154</td>\n",
              "      <td>1470034812</td>\n",
              "      <td>NaN</td>\n",
              "      <td>0</td>\n",
              "      <td>1</td>\n",
              "      <td>Google</td>\n",
              "      <td>None</td>\n",
              "      <td>None</td>\n",
              "      <td>None</td>\n",
              "      <td>1</td>\n",
              "      <td>0.0</td>\n",
              "    </tr>\n",
              "    <tr>\n",
              "      <th>355345</th>\n",
              "      <td>8294721032567046680</td>\n",
              "      <td>1470035066</td>\n",
              "      <td>NaN</td>\n",
              "      <td>0</td>\n",
              "      <td>1</td>\n",
              "      <td>Home</td>\n",
              "      <td>None</td>\n",
              "      <td>None</td>\n",
              "      <td>None</td>\n",
              "      <td>1</td>\n",
              "      <td>0.0</td>\n",
              "    </tr>\n",
              "    <tr>\n",
              "      <th>355346</th>\n",
              "      <td>7718623669497357235</td>\n",
              "      <td>1470035081</td>\n",
              "      <td>40.0</td>\n",
              "      <td>0</td>\n",
              "      <td>1</td>\n",
              "      <td>Home</td>\n",
              "      <td>None</td>\n",
              "      <td>None</td>\n",
              "      <td>None</td>\n",
              "      <td>5</td>\n",
              "      <td>11332.0</td>\n",
              "    </tr>\n",
              "    <tr>\n",
              "      <th>355347</th>\n",
              "      <td>7718623669497357235</td>\n",
              "      <td>1470035081</td>\n",
              "      <td>40.0</td>\n",
              "      <td>11332</td>\n",
              "      <td>2</td>\n",
              "      <td>Store search results</td>\n",
              "      <td>None</td>\n",
              "      <td>None</td>\n",
              "      <td>None</td>\n",
              "      <td>5</td>\n",
              "      <td>4781.0</td>\n",
              "    </tr>\n",
              "    <tr>\n",
              "      <th>355348</th>\n",
              "      <td>7718623669497357235</td>\n",
              "      <td>1470035081</td>\n",
              "      <td>40.0</td>\n",
              "      <td>16113</td>\n",
              "      <td>3</td>\n",
              "      <td>Home</td>\n",
              "      <td>None</td>\n",
              "      <td>None</td>\n",
              "      <td>None</td>\n",
              "      <td>5</td>\n",
              "      <td>19596.0</td>\n",
              "    </tr>\n",
              "    <tr>\n",
              "      <th>...</th>\n",
              "      <td>...</td>\n",
              "      <td>...</td>\n",
              "      <td>...</td>\n",
              "      <td>...</td>\n",
              "      <td>...</td>\n",
              "      <td>...</td>\n",
              "      <td>...</td>\n",
              "      <td>...</td>\n",
              "      <td>...</td>\n",
              "      <td>...</td>\n",
              "      <td>...</td>\n",
              "    </tr>\n",
              "    <tr>\n",
              "      <th>3432075</th>\n",
              "      <td>9952572636180683443</td>\n",
              "      <td>1501657166</td>\n",
              "      <td>21.0</td>\n",
              "      <td>0</td>\n",
              "      <td>1</td>\n",
              "      <td>Google Online Store</td>\n",
              "      <td>None</td>\n",
              "      <td>None</td>\n",
              "      <td>None</td>\n",
              "      <td>2</td>\n",
              "      <td>20676.0</td>\n",
              "    </tr>\n",
              "    <tr>\n",
              "      <th>3432076</th>\n",
              "      <td>9952572636180683443</td>\n",
              "      <td>1501657166</td>\n",
              "      <td>21.0</td>\n",
              "      <td>20676</td>\n",
              "      <td>2</td>\n",
              "      <td>Home</td>\n",
              "      <td>None</td>\n",
              "      <td>None</td>\n",
              "      <td>None</td>\n",
              "      <td>2</td>\n",
              "      <td>0.0</td>\n",
              "    </tr>\n",
              "    <tr>\n",
              "      <th>3432077</th>\n",
              "      <td>3800266955937177725</td>\n",
              "      <td>1501657186</td>\n",
              "      <td>NaN</td>\n",
              "      <td>0</td>\n",
              "      <td>1</td>\n",
              "      <td>YouTube | Shop by Brand | Google Merchandise S...</td>\n",
              "      <td>Shop by Brand</td>\n",
              "      <td>Google Merchandise Store</td>\n",
              "      <td>None</td>\n",
              "      <td>1</td>\n",
              "      <td>0.0</td>\n",
              "    </tr>\n",
              "    <tr>\n",
              "      <th>3432078</th>\n",
              "      <td>6344531343964394726</td>\n",
              "      <td>1501657190</td>\n",
              "      <td>NaN</td>\n",
              "      <td>0</td>\n",
              "      <td>1</td>\n",
              "      <td>YouTube | Shop by Brand | Google Merchandise S...</td>\n",
              "      <td>Shop by Brand</td>\n",
              "      <td>Google Merchandise Store</td>\n",
              "      <td>None</td>\n",
              "      <td>1</td>\n",
              "      <td>0.0</td>\n",
              "    </tr>\n",
              "    <tr>\n",
              "      <th>3432079</th>\n",
              "      <td>7645272421886342166</td>\n",
              "      <td>1501657193</td>\n",
              "      <td>NaN</td>\n",
              "      <td>0</td>\n",
              "      <td>1</td>\n",
              "      <td>Google Online Store</td>\n",
              "      <td>None</td>\n",
              "      <td>None</td>\n",
              "      <td>None</td>\n",
              "      <td>1</td>\n",
              "      <td>NaN</td>\n",
              "    </tr>\n",
              "  </tbody>\n",
              "</table>\n",
              "<p>4153675 rows × 11 columns</p>\n",
              "</div>"
            ],
            "text/plain": [
              "               fullVisitorId     visitId  ...  totalVisitHits  timeOnPage\n",
              "355344    423043652415339154  1470034812  ...               1         0.0\n",
              "355345   8294721032567046680  1470035066  ...               1         0.0\n",
              "355346   7718623669497357235  1470035081  ...               5     11332.0\n",
              "355347   7718623669497357235  1470035081  ...               5      4781.0\n",
              "355348   7718623669497357235  1470035081  ...               5     19596.0\n",
              "...                      ...         ...  ...             ...         ...\n",
              "3432075  9952572636180683443  1501657166  ...               2     20676.0\n",
              "3432076  9952572636180683443  1501657166  ...               2         0.0\n",
              "3432077  3800266955937177725  1501657186  ...               1         0.0\n",
              "3432078  6344531343964394726  1501657190  ...               1         0.0\n",
              "3432079  7645272421886342166  1501657193  ...               1         NaN\n",
              "\n",
              "[4153675 rows x 11 columns]"
            ]
          },
          "metadata": {
            "tags": []
          },
          "execution_count": 86
        }
      ]
    },
    {
      "cell_type": "code",
      "metadata": {
        "id": "XTPoMB6nmU0W",
        "colab_type": "code",
        "colab": {}
      },
      "source": [
        "df_time.page2 = np.where(df_time.pt == \"Home\", df_time.pt, df_time.page2)\n",
        "df_time.page2 = np.where(df_time.pt == \"Google Online Store\", df_time.pt, df_time.page2)"
      ],
      "execution_count": 0,
      "outputs": []
    },
    {
      "cell_type": "code",
      "metadata": {
        "id": "NM2173jU6WNt",
        "colab_type": "code",
        "colab": {}
      },
      "source": [
        "df_time = df_time[df_time[\"page2\"].notna()]"
      ],
      "execution_count": 0,
      "outputs": []
    },
    {
      "cell_type": "code",
      "metadata": {
        "id": "OrNSjGcL6WN3",
        "colab_type": "code",
        "colab": {}
      },
      "source": [
        "#df_prod = pd.read_csv(\"products.csv\")\n",
        "#df_timeOnProducts = df_timeOnProducts.merge(df_prod, on = \"visitId\")"
      ],
      "execution_count": 0,
      "outputs": []
    },
    {
      "cell_type": "code",
      "metadata": {
        "id": "k84QFmCM6WN6",
        "colab_type": "code",
        "colab": {}
      },
      "source": [
        "#df.loc[df.groupby(\"item\")[\"diff\"].idxmin()]"
      ],
      "execution_count": 0,
      "outputs": []
    },
    {
      "cell_type": "code",
      "metadata": {
        "id": "-xc-CGuEgoDb",
        "colab_type": "code",
        "outputId": "1bd5404c-2805-4d07-fd5b-49ad7574ada6",
        "colab": {
          "base_uri": "https://localhost:8080/",
          "height": 520
        }
      },
      "source": [
        "df_time"
      ],
      "execution_count": 91,
      "outputs": [
        {
          "output_type": "execute_result",
          "data": {
            "text/html": [
              "<div>\n",
              "<style scoped>\n",
              "    .dataframe tbody tr th:only-of-type {\n",
              "        vertical-align: middle;\n",
              "    }\n",
              "\n",
              "    .dataframe tbody tr th {\n",
              "        vertical-align: top;\n",
              "    }\n",
              "\n",
              "    .dataframe thead th {\n",
              "        text-align: right;\n",
              "    }\n",
              "</style>\n",
              "<table border=\"1\" class=\"dataframe\">\n",
              "  <thead>\n",
              "    <tr style=\"text-align: right;\">\n",
              "      <th></th>\n",
              "      <th>fullVisitorId</th>\n",
              "      <th>visitId</th>\n",
              "      <th>timeOnSite</th>\n",
              "      <th>hittime</th>\n",
              "      <th>hitnum</th>\n",
              "      <th>pt</th>\n",
              "      <th>page1</th>\n",
              "      <th>page2</th>\n",
              "      <th>page3</th>\n",
              "      <th>totalVisitHits</th>\n",
              "      <th>timeOnPage</th>\n",
              "    </tr>\n",
              "  </thead>\n",
              "  <tbody>\n",
              "    <tr>\n",
              "      <th>355345</th>\n",
              "      <td>8294721032567046680</td>\n",
              "      <td>1470035066</td>\n",
              "      <td>NaN</td>\n",
              "      <td>0</td>\n",
              "      <td>1</td>\n",
              "      <td>Home</td>\n",
              "      <td>None</td>\n",
              "      <td>Home</td>\n",
              "      <td>None</td>\n",
              "      <td>1</td>\n",
              "      <td>0.0</td>\n",
              "    </tr>\n",
              "    <tr>\n",
              "      <th>355346</th>\n",
              "      <td>7718623669497357235</td>\n",
              "      <td>1470035081</td>\n",
              "      <td>40.0</td>\n",
              "      <td>0</td>\n",
              "      <td>1</td>\n",
              "      <td>Home</td>\n",
              "      <td>None</td>\n",
              "      <td>Home</td>\n",
              "      <td>None</td>\n",
              "      <td>5</td>\n",
              "      <td>11332.0</td>\n",
              "    </tr>\n",
              "    <tr>\n",
              "      <th>355348</th>\n",
              "      <td>7718623669497357235</td>\n",
              "      <td>1470035081</td>\n",
              "      <td>40.0</td>\n",
              "      <td>16113</td>\n",
              "      <td>3</td>\n",
              "      <td>Home</td>\n",
              "      <td>None</td>\n",
              "      <td>Home</td>\n",
              "      <td>None</td>\n",
              "      <td>5</td>\n",
              "      <td>19596.0</td>\n",
              "    </tr>\n",
              "    <tr>\n",
              "      <th>355350</th>\n",
              "      <td>7718623669497357235</td>\n",
              "      <td>1470035081</td>\n",
              "      <td>40.0</td>\n",
              "      <td>40239</td>\n",
              "      <td>5</td>\n",
              "      <td>Home</td>\n",
              "      <td>None</td>\n",
              "      <td>Home</td>\n",
              "      <td>None</td>\n",
              "      <td>5</td>\n",
              "      <td>0.0</td>\n",
              "    </tr>\n",
              "    <tr>\n",
              "      <th>355351</th>\n",
              "      <td>4798058133221713505</td>\n",
              "      <td>1470035161</td>\n",
              "      <td>89.0</td>\n",
              "      <td>0</td>\n",
              "      <td>1</td>\n",
              "      <td>Home</td>\n",
              "      <td>None</td>\n",
              "      <td>Home</td>\n",
              "      <td>None</td>\n",
              "      <td>9</td>\n",
              "      <td>8177.0</td>\n",
              "    </tr>\n",
              "    <tr>\n",
              "      <th>...</th>\n",
              "      <td>...</td>\n",
              "      <td>...</td>\n",
              "      <td>...</td>\n",
              "      <td>...</td>\n",
              "      <td>...</td>\n",
              "      <td>...</td>\n",
              "      <td>...</td>\n",
              "      <td>...</td>\n",
              "      <td>...</td>\n",
              "      <td>...</td>\n",
              "      <td>...</td>\n",
              "    </tr>\n",
              "    <tr>\n",
              "      <th>3432075</th>\n",
              "      <td>9952572636180683443</td>\n",
              "      <td>1501657166</td>\n",
              "      <td>21.0</td>\n",
              "      <td>0</td>\n",
              "      <td>1</td>\n",
              "      <td>Google Online Store</td>\n",
              "      <td>None</td>\n",
              "      <td>Google Online Store</td>\n",
              "      <td>None</td>\n",
              "      <td>2</td>\n",
              "      <td>20676.0</td>\n",
              "    </tr>\n",
              "    <tr>\n",
              "      <th>3432076</th>\n",
              "      <td>9952572636180683443</td>\n",
              "      <td>1501657166</td>\n",
              "      <td>21.0</td>\n",
              "      <td>20676</td>\n",
              "      <td>2</td>\n",
              "      <td>Home</td>\n",
              "      <td>None</td>\n",
              "      <td>Home</td>\n",
              "      <td>None</td>\n",
              "      <td>2</td>\n",
              "      <td>0.0</td>\n",
              "    </tr>\n",
              "    <tr>\n",
              "      <th>3432077</th>\n",
              "      <td>3800266955937177725</td>\n",
              "      <td>1501657186</td>\n",
              "      <td>NaN</td>\n",
              "      <td>0</td>\n",
              "      <td>1</td>\n",
              "      <td>YouTube | Shop by Brand | Google Merchandise S...</td>\n",
              "      <td>Shop by Brand</td>\n",
              "      <td>Google Merchandise Store</td>\n",
              "      <td>None</td>\n",
              "      <td>1</td>\n",
              "      <td>0.0</td>\n",
              "    </tr>\n",
              "    <tr>\n",
              "      <th>3432078</th>\n",
              "      <td>6344531343964394726</td>\n",
              "      <td>1501657190</td>\n",
              "      <td>NaN</td>\n",
              "      <td>0</td>\n",
              "      <td>1</td>\n",
              "      <td>YouTube | Shop by Brand | Google Merchandise S...</td>\n",
              "      <td>Shop by Brand</td>\n",
              "      <td>Google Merchandise Store</td>\n",
              "      <td>None</td>\n",
              "      <td>1</td>\n",
              "      <td>0.0</td>\n",
              "    </tr>\n",
              "    <tr>\n",
              "      <th>3432079</th>\n",
              "      <td>7645272421886342166</td>\n",
              "      <td>1501657193</td>\n",
              "      <td>NaN</td>\n",
              "      <td>0</td>\n",
              "      <td>1</td>\n",
              "      <td>Google Online Store</td>\n",
              "      <td>None</td>\n",
              "      <td>Google Online Store</td>\n",
              "      <td>None</td>\n",
              "      <td>1</td>\n",
              "      <td>NaN</td>\n",
              "    </tr>\n",
              "  </tbody>\n",
              "</table>\n",
              "<p>2278313 rows × 11 columns</p>\n",
              "</div>"
            ],
            "text/plain": [
              "               fullVisitorId     visitId  ...  totalVisitHits  timeOnPage\n",
              "355345   8294721032567046680  1470035066  ...               1         0.0\n",
              "355346   7718623669497357235  1470035081  ...               5     11332.0\n",
              "355348   7718623669497357235  1470035081  ...               5     19596.0\n",
              "355350   7718623669497357235  1470035081  ...               5         0.0\n",
              "355351   4798058133221713505  1470035161  ...               9      8177.0\n",
              "...                      ...         ...  ...             ...         ...\n",
              "3432075  9952572636180683443  1501657166  ...               2     20676.0\n",
              "3432076  9952572636180683443  1501657166  ...               2         0.0\n",
              "3432077  3800266955937177725  1501657186  ...               1         0.0\n",
              "3432078  6344531343964394726  1501657190  ...               1         0.0\n",
              "3432079  7645272421886342166  1501657193  ...               1         NaN\n",
              "\n",
              "[2278313 rows x 11 columns]"
            ]
          },
          "metadata": {
            "tags": []
          },
          "execution_count": 91
        }
      ]
    },
    {
      "cell_type": "markdown",
      "metadata": {
        "id": "TEpGG71c6WN8",
        "colab_type": "text"
      },
      "source": [
        "# merge with traffic source data and clean up"
      ]
    },
    {
      "cell_type": "code",
      "metadata": {
        "id": "uRFkcCKK6WN9",
        "colab_type": "code",
        "colab": {}
      },
      "source": [
        "ts = pd.read_csv(\"/drive/My Drive/Googel Analytics - Capstone/Fatema/trafficSource_fullyear2.csv\")"
      ],
      "execution_count": 0,
      "outputs": []
    },
    {
      "cell_type": "code",
      "metadata": {
        "id": "ntMlBDHn6WN_",
        "colab_type": "code",
        "colab": {}
      },
      "source": [
        "ts = ts.drop([\"Unnamed: 0\", \"Unnamed: 0.1\"], axis = 1)"
      ],
      "execution_count": 0,
      "outputs": []
    },
    {
      "cell_type": "code",
      "metadata": {
        "id": "fw_zX9ZJ6WOD",
        "colab_type": "code",
        "colab": {}
      },
      "source": [
        "df_ts = ts.merge(df_time, on = \"visitId\").drop([\"fullVisitorId_y\",\"timeOnSite_y\"], axis = 1)"
      ],
      "execution_count": 0,
      "outputs": []
    },
    {
      "cell_type": "code",
      "metadata": {
        "id": "tHwUg6zw6WOG",
        "colab_type": "code",
        "outputId": "ed7dc15e-6f06-4e2e-91ab-58c94446f02b",
        "colab": {
          "base_uri": "https://localhost:8080/",
          "height": 448
        }
      },
      "source": [
        "#df_ts = df_ts.drop([\"totalVisitHits\", \"networkDomain\", \"metro\", \"city\", \"region\", \"timeOnSite_x\",\n",
        "#                   \"pageviews\", \"hits\", \"fullVisitorId_x\", \"visitId\", \"date\", \n",
        "#                  \"transactionRevenue\", \"totalTransactionRevenue\", \"sessionQualityDim\", \"continent\", \"subContinent\",\n",
        "#                   \"isMobile\", \"hitnum\", \"pt\", \"gclId\"], axis = 1)\n",
        "\n",
        "df_ts = df_ts.drop([\"totalVisitHits\", \"metro\", \"region\", \"timeOnSite_x\",\n",
        "                    \"pageviews\", \"hits\", \"fullVisitorId_x\", \"visitId\", \"date\", \n",
        "                   \"transactionRevenue\", \"totalTransactionRevenue\", \"sessionQualityDim\", \"continent\", \"subContinent\",\n",
        "                   \"isMobile\", \"gclId\", \"page3\", \"pt\", \"timeOnPage\", \"hitnum\", \"hittime\"], axis = 1)\n",
        "\n",
        "df_ts.head()"
      ],
      "execution_count": 95,
      "outputs": [
        {
          "output_type": "execute_result",
          "data": {
            "text/html": [
              "<div>\n",
              "<style scoped>\n",
              "    .dataframe tbody tr th:only-of-type {\n",
              "        vertical-align: middle;\n",
              "    }\n",
              "\n",
              "    .dataframe tbody tr th {\n",
              "        vertical-align: top;\n",
              "    }\n",
              "\n",
              "    .dataframe thead th {\n",
              "        text-align: right;\n",
              "    }\n",
              "</style>\n",
              "<table border=\"1\" class=\"dataframe\">\n",
              "  <thead>\n",
              "    <tr style=\"text-align: right;\">\n",
              "      <th></th>\n",
              "      <th>visitNumber</th>\n",
              "      <th>visitStartTime</th>\n",
              "      <th>channelGrouping</th>\n",
              "      <th>transactions</th>\n",
              "      <th>referralPath</th>\n",
              "      <th>campaign</th>\n",
              "      <th>source</th>\n",
              "      <th>medium</th>\n",
              "      <th>keyword</th>\n",
              "      <th>adContent</th>\n",
              "      <th>page</th>\n",
              "      <th>slot</th>\n",
              "      <th>adNetworkType</th>\n",
              "      <th>browser</th>\n",
              "      <th>operatingSystem</th>\n",
              "      <th>deviceCategory</th>\n",
              "      <th>country</th>\n",
              "      <th>city</th>\n",
              "      <th>networkDomain</th>\n",
              "      <th>page1</th>\n",
              "      <th>page2</th>\n",
              "    </tr>\n",
              "  </thead>\n",
              "  <tbody>\n",
              "    <tr>\n",
              "      <th>0</th>\n",
              "      <td>1</td>\n",
              "      <td>12/29/16 23:41</td>\n",
              "      <td>Organic Search</td>\n",
              "      <td>NaN</td>\n",
              "      <td>NaN</td>\n",
              "      <td>(not set)</td>\n",
              "      <td>(direct)</td>\n",
              "      <td>(none)</td>\n",
              "      <td>NaN</td>\n",
              "      <td>NaN</td>\n",
              "      <td>NaN</td>\n",
              "      <td>NaN</td>\n",
              "      <td>NaN</td>\n",
              "      <td>Chrome</td>\n",
              "      <td>Windows</td>\n",
              "      <td>desktop</td>\n",
              "      <td>United States</td>\n",
              "      <td>not available in demo dataset</td>\n",
              "      <td>nautilus.com</td>\n",
              "      <td>None</td>\n",
              "      <td>Google Online Store</td>\n",
              "    </tr>\n",
              "    <tr>\n",
              "      <th>1</th>\n",
              "      <td>1</td>\n",
              "      <td>12/29/16 7:52</td>\n",
              "      <td>Organic Search</td>\n",
              "      <td>NaN</td>\n",
              "      <td>NaN</td>\n",
              "      <td>(not set)</td>\n",
              "      <td>(direct)</td>\n",
              "      <td>(none)</td>\n",
              "      <td>NaN</td>\n",
              "      <td>NaN</td>\n",
              "      <td>NaN</td>\n",
              "      <td>NaN</td>\n",
              "      <td>NaN</td>\n",
              "      <td>Chrome</td>\n",
              "      <td>Windows</td>\n",
              "      <td>desktop</td>\n",
              "      <td>United Kingdom</td>\n",
              "      <td>London</td>\n",
              "      <td>btcentralplus.com</td>\n",
              "      <td>None</td>\n",
              "      <td>Google Online Store</td>\n",
              "    </tr>\n",
              "    <tr>\n",
              "      <th>2</th>\n",
              "      <td>1</td>\n",
              "      <td>12/29/16 23:51</td>\n",
              "      <td>Organic Search</td>\n",
              "      <td>NaN</td>\n",
              "      <td>NaN</td>\n",
              "      <td>(not set)</td>\n",
              "      <td>(direct)</td>\n",
              "      <td>(none)</td>\n",
              "      <td>NaN</td>\n",
              "      <td>NaN</td>\n",
              "      <td>NaN</td>\n",
              "      <td>NaN</td>\n",
              "      <td>NaN</td>\n",
              "      <td>Chrome</td>\n",
              "      <td>Android</td>\n",
              "      <td>mobile</td>\n",
              "      <td>Australia</td>\n",
              "      <td>not available in demo dataset</td>\n",
              "      <td>optusnet.com.au</td>\n",
              "      <td>None</td>\n",
              "      <td>Google Online Store</td>\n",
              "    </tr>\n",
              "    <tr>\n",
              "      <th>3</th>\n",
              "      <td>1</td>\n",
              "      <td>12/29/16 20:12</td>\n",
              "      <td>Paid Search</td>\n",
              "      <td>NaN</td>\n",
              "      <td>NaN</td>\n",
              "      <td>(not set)</td>\n",
              "      <td>(direct)</td>\n",
              "      <td>(none)</td>\n",
              "      <td>NaN</td>\n",
              "      <td>NaN</td>\n",
              "      <td>1.0</td>\n",
              "      <td>Top</td>\n",
              "      <td>Google Search</td>\n",
              "      <td>Safari</td>\n",
              "      <td>iOS</td>\n",
              "      <td>mobile</td>\n",
              "      <td>United States</td>\n",
              "      <td>Seattle</td>\n",
              "      <td>(not set)</td>\n",
              "      <td>None</td>\n",
              "      <td>Google Online Store</td>\n",
              "    </tr>\n",
              "    <tr>\n",
              "      <th>4</th>\n",
              "      <td>2</td>\n",
              "      <td>12/29/16 4:06</td>\n",
              "      <td>Organic Search</td>\n",
              "      <td>NaN</td>\n",
              "      <td>NaN</td>\n",
              "      <td>(not set)</td>\n",
              "      <td>(direct)</td>\n",
              "      <td>(none)</td>\n",
              "      <td>NaN</td>\n",
              "      <td>NaN</td>\n",
              "      <td>NaN</td>\n",
              "      <td>NaN</td>\n",
              "      <td>NaN</td>\n",
              "      <td>Chrome</td>\n",
              "      <td>Windows</td>\n",
              "      <td>desktop</td>\n",
              "      <td>Germany</td>\n",
              "      <td>not available in demo dataset</td>\n",
              "      <td>gwxs.de</td>\n",
              "      <td>None</td>\n",
              "      <td>Google Online Store</td>\n",
              "    </tr>\n",
              "  </tbody>\n",
              "</table>\n",
              "</div>"
            ],
            "text/plain": [
              "   visitNumber  visitStartTime  ... page1                page2\n",
              "0            1  12/29/16 23:41  ...  None  Google Online Store\n",
              "1            1   12/29/16 7:52  ...  None  Google Online Store\n",
              "2            1  12/29/16 23:51  ...  None  Google Online Store\n",
              "3            1  12/29/16 20:12  ...  None  Google Online Store\n",
              "4            2   12/29/16 4:06  ...  None  Google Online Store\n",
              "\n",
              "[5 rows x 21 columns]"
            ]
          },
          "metadata": {
            "tags": []
          },
          "execution_count": 95
        }
      ]
    },
    {
      "cell_type": "markdown",
      "metadata": {
        "id": "1AZ8E8936WOI",
        "colab_type": "text"
      },
      "source": [
        "# Add DoW and ToD features"
      ]
    },
    {
      "cell_type": "code",
      "metadata": {
        "id": "sNx211Fp6WOJ",
        "colab_type": "code",
        "colab": {}
      },
      "source": [
        "df_ts['dow'] = df_ts.visitStartTime.apply(lambda x: datetime.datetime.strptime(x, '%m/%d/%y %H:%M').weekday())\n",
        "df_ts['hour'] = df_ts.visitStartTime   .apply(lambda x: datetime.datetime.strptime(x, '%m/%d/%y %H:%M').hour)"
      ],
      "execution_count": 0,
      "outputs": []
    },
    {
      "cell_type": "markdown",
      "metadata": {
        "id": "yYKbjNOV6WOL",
        "colab_type": "text"
      },
      "source": [
        "# Impute and drop unnecessary columns"
      ]
    },
    {
      "cell_type": "code",
      "metadata": {
        "id": "XmQGdZ2R6WOM",
        "colab_type": "code",
        "outputId": "9c9beeb8-d5d7-4548-9ec6-d6e12164d360",
        "colab": {
          "base_uri": "https://localhost:8080/",
          "height": 34
        }
      },
      "source": [
        "x_or = df_ts.loc[:, df_ts.columns != 'transactions']\n",
        "y_or = df_ts.transactions\n",
        "y_or = np.where(y_or.isna(), 0, 1)\n",
        "y_or"
      ],
      "execution_count": 97,
      "outputs": [
        {
          "output_type": "execute_result",
          "data": {
            "text/plain": [
              "array([0, 0, 0, ..., 0, 0, 0])"
            ]
          },
          "metadata": {
            "tags": []
          },
          "execution_count": 97
        }
      ]
    },
    {
      "cell_type": "code",
      "metadata": {
        "id": "fpgLOUt46WOS",
        "colab_type": "code",
        "outputId": "eb0806e6-0e32-4805-80c7-b3bb2c1426c6",
        "colab": {
          "base_uri": "https://localhost:8080/",
          "height": 264
        }
      },
      "source": [
        "nacol = pd.DataFrame(x_or.isna().any()).reset_index()\n",
        "nacol.columns = ['column', 'Bool']\n",
        "nacol = nacol[nacol.Bool == True]\n",
        "nacol"
      ],
      "execution_count": 98,
      "outputs": [
        {
          "output_type": "execute_result",
          "data": {
            "text/html": [
              "<div>\n",
              "<style scoped>\n",
              "    .dataframe tbody tr th:only-of-type {\n",
              "        vertical-align: middle;\n",
              "    }\n",
              "\n",
              "    .dataframe tbody tr th {\n",
              "        vertical-align: top;\n",
              "    }\n",
              "\n",
              "    .dataframe thead th {\n",
              "        text-align: right;\n",
              "    }\n",
              "</style>\n",
              "<table border=\"1\" class=\"dataframe\">\n",
              "  <thead>\n",
              "    <tr style=\"text-align: right;\">\n",
              "      <th></th>\n",
              "      <th>column</th>\n",
              "      <th>Bool</th>\n",
              "    </tr>\n",
              "  </thead>\n",
              "  <tbody>\n",
              "    <tr>\n",
              "      <th>3</th>\n",
              "      <td>referralPath</td>\n",
              "      <td>True</td>\n",
              "    </tr>\n",
              "    <tr>\n",
              "      <th>7</th>\n",
              "      <td>keyword</td>\n",
              "      <td>True</td>\n",
              "    </tr>\n",
              "    <tr>\n",
              "      <th>8</th>\n",
              "      <td>adContent</td>\n",
              "      <td>True</td>\n",
              "    </tr>\n",
              "    <tr>\n",
              "      <th>9</th>\n",
              "      <td>page</td>\n",
              "      <td>True</td>\n",
              "    </tr>\n",
              "    <tr>\n",
              "      <th>10</th>\n",
              "      <td>slot</td>\n",
              "      <td>True</td>\n",
              "    </tr>\n",
              "    <tr>\n",
              "      <th>11</th>\n",
              "      <td>adNetworkType</td>\n",
              "      <td>True</td>\n",
              "    </tr>\n",
              "    <tr>\n",
              "      <th>18</th>\n",
              "      <td>page1</td>\n",
              "      <td>True</td>\n",
              "    </tr>\n",
              "  </tbody>\n",
              "</table>\n",
              "</div>"
            ],
            "text/plain": [
              "           column  Bool\n",
              "3    referralPath  True\n",
              "7         keyword  True\n",
              "8       adContent  True\n",
              "9            page  True\n",
              "10           slot  True\n",
              "11  adNetworkType  True\n",
              "18          page1  True"
            ]
          },
          "metadata": {
            "tags": []
          },
          "execution_count": 98
        }
      ]
    },
    {
      "cell_type": "code",
      "metadata": {
        "id": "65uelpFAiymP",
        "colab_type": "code",
        "outputId": "473dd838-272d-412e-b222-762364c46a02",
        "colab": {
          "base_uri": "https://localhost:8080/",
          "height": 500
        }
      },
      "source": [
        "x_or.city = np.where(x_or.city == \"not available in demo dataset\", x_or.country, x_or.city)\n",
        "x_or.head()\n"
      ],
      "execution_count": 99,
      "outputs": [
        {
          "output_type": "stream",
          "text": [
            "/usr/local/lib/python3.6/dist-packages/pandas/core/generic.py:5208: SettingWithCopyWarning: \n",
            "A value is trying to be set on a copy of a slice from a DataFrame.\n",
            "Try using .loc[row_indexer,col_indexer] = value instead\n",
            "\n",
            "See the caveats in the documentation: http://pandas.pydata.org/pandas-docs/stable/user_guide/indexing.html#returning-a-view-versus-a-copy\n",
            "  self[name] = value\n"
          ],
          "name": "stderr"
        },
        {
          "output_type": "execute_result",
          "data": {
            "text/html": [
              "<div>\n",
              "<style scoped>\n",
              "    .dataframe tbody tr th:only-of-type {\n",
              "        vertical-align: middle;\n",
              "    }\n",
              "\n",
              "    .dataframe tbody tr th {\n",
              "        vertical-align: top;\n",
              "    }\n",
              "\n",
              "    .dataframe thead th {\n",
              "        text-align: right;\n",
              "    }\n",
              "</style>\n",
              "<table border=\"1\" class=\"dataframe\">\n",
              "  <thead>\n",
              "    <tr style=\"text-align: right;\">\n",
              "      <th></th>\n",
              "      <th>visitNumber</th>\n",
              "      <th>visitStartTime</th>\n",
              "      <th>channelGrouping</th>\n",
              "      <th>referralPath</th>\n",
              "      <th>campaign</th>\n",
              "      <th>source</th>\n",
              "      <th>medium</th>\n",
              "      <th>keyword</th>\n",
              "      <th>adContent</th>\n",
              "      <th>page</th>\n",
              "      <th>slot</th>\n",
              "      <th>adNetworkType</th>\n",
              "      <th>browser</th>\n",
              "      <th>operatingSystem</th>\n",
              "      <th>deviceCategory</th>\n",
              "      <th>country</th>\n",
              "      <th>city</th>\n",
              "      <th>networkDomain</th>\n",
              "      <th>page1</th>\n",
              "      <th>page2</th>\n",
              "      <th>dow</th>\n",
              "      <th>hour</th>\n",
              "    </tr>\n",
              "  </thead>\n",
              "  <tbody>\n",
              "    <tr>\n",
              "      <th>0</th>\n",
              "      <td>1</td>\n",
              "      <td>12/29/16 23:41</td>\n",
              "      <td>Organic Search</td>\n",
              "      <td>NaN</td>\n",
              "      <td>(not set)</td>\n",
              "      <td>(direct)</td>\n",
              "      <td>(none)</td>\n",
              "      <td>NaN</td>\n",
              "      <td>NaN</td>\n",
              "      <td>NaN</td>\n",
              "      <td>NaN</td>\n",
              "      <td>NaN</td>\n",
              "      <td>Chrome</td>\n",
              "      <td>Windows</td>\n",
              "      <td>desktop</td>\n",
              "      <td>United States</td>\n",
              "      <td>United States</td>\n",
              "      <td>nautilus.com</td>\n",
              "      <td>None</td>\n",
              "      <td>Google Online Store</td>\n",
              "      <td>3</td>\n",
              "      <td>23</td>\n",
              "    </tr>\n",
              "    <tr>\n",
              "      <th>1</th>\n",
              "      <td>1</td>\n",
              "      <td>12/29/16 7:52</td>\n",
              "      <td>Organic Search</td>\n",
              "      <td>NaN</td>\n",
              "      <td>(not set)</td>\n",
              "      <td>(direct)</td>\n",
              "      <td>(none)</td>\n",
              "      <td>NaN</td>\n",
              "      <td>NaN</td>\n",
              "      <td>NaN</td>\n",
              "      <td>NaN</td>\n",
              "      <td>NaN</td>\n",
              "      <td>Chrome</td>\n",
              "      <td>Windows</td>\n",
              "      <td>desktop</td>\n",
              "      <td>United Kingdom</td>\n",
              "      <td>London</td>\n",
              "      <td>btcentralplus.com</td>\n",
              "      <td>None</td>\n",
              "      <td>Google Online Store</td>\n",
              "      <td>3</td>\n",
              "      <td>7</td>\n",
              "    </tr>\n",
              "    <tr>\n",
              "      <th>2</th>\n",
              "      <td>1</td>\n",
              "      <td>12/29/16 23:51</td>\n",
              "      <td>Organic Search</td>\n",
              "      <td>NaN</td>\n",
              "      <td>(not set)</td>\n",
              "      <td>(direct)</td>\n",
              "      <td>(none)</td>\n",
              "      <td>NaN</td>\n",
              "      <td>NaN</td>\n",
              "      <td>NaN</td>\n",
              "      <td>NaN</td>\n",
              "      <td>NaN</td>\n",
              "      <td>Chrome</td>\n",
              "      <td>Android</td>\n",
              "      <td>mobile</td>\n",
              "      <td>Australia</td>\n",
              "      <td>Australia</td>\n",
              "      <td>optusnet.com.au</td>\n",
              "      <td>None</td>\n",
              "      <td>Google Online Store</td>\n",
              "      <td>3</td>\n",
              "      <td>23</td>\n",
              "    </tr>\n",
              "    <tr>\n",
              "      <th>3</th>\n",
              "      <td>1</td>\n",
              "      <td>12/29/16 20:12</td>\n",
              "      <td>Paid Search</td>\n",
              "      <td>NaN</td>\n",
              "      <td>(not set)</td>\n",
              "      <td>(direct)</td>\n",
              "      <td>(none)</td>\n",
              "      <td>NaN</td>\n",
              "      <td>NaN</td>\n",
              "      <td>1.0</td>\n",
              "      <td>Top</td>\n",
              "      <td>Google Search</td>\n",
              "      <td>Safari</td>\n",
              "      <td>iOS</td>\n",
              "      <td>mobile</td>\n",
              "      <td>United States</td>\n",
              "      <td>Seattle</td>\n",
              "      <td>(not set)</td>\n",
              "      <td>None</td>\n",
              "      <td>Google Online Store</td>\n",
              "      <td>3</td>\n",
              "      <td>20</td>\n",
              "    </tr>\n",
              "    <tr>\n",
              "      <th>4</th>\n",
              "      <td>2</td>\n",
              "      <td>12/29/16 4:06</td>\n",
              "      <td>Organic Search</td>\n",
              "      <td>NaN</td>\n",
              "      <td>(not set)</td>\n",
              "      <td>(direct)</td>\n",
              "      <td>(none)</td>\n",
              "      <td>NaN</td>\n",
              "      <td>NaN</td>\n",
              "      <td>NaN</td>\n",
              "      <td>NaN</td>\n",
              "      <td>NaN</td>\n",
              "      <td>Chrome</td>\n",
              "      <td>Windows</td>\n",
              "      <td>desktop</td>\n",
              "      <td>Germany</td>\n",
              "      <td>Germany</td>\n",
              "      <td>gwxs.de</td>\n",
              "      <td>None</td>\n",
              "      <td>Google Online Store</td>\n",
              "      <td>3</td>\n",
              "      <td>4</td>\n",
              "    </tr>\n",
              "  </tbody>\n",
              "</table>\n",
              "</div>"
            ],
            "text/plain": [
              "   visitNumber  visitStartTime channelGrouping  ...                page2 dow hour\n",
              "0            1  12/29/16 23:41  Organic Search  ...  Google Online Store   3   23\n",
              "1            1   12/29/16 7:52  Organic Search  ...  Google Online Store   3    7\n",
              "2            1  12/29/16 23:51  Organic Search  ...  Google Online Store   3   23\n",
              "3            1  12/29/16 20:12     Paid Search  ...  Google Online Store   3   20\n",
              "4            2   12/29/16 4:06  Organic Search  ...  Google Online Store   3    4\n",
              "\n",
              "[5 rows x 22 columns]"
            ]
          },
          "metadata": {
            "tags": []
          },
          "execution_count": 99
        }
      ]
    },
    {
      "cell_type": "code",
      "metadata": {
        "id": "L2kaQ8p26WOV",
        "colab_type": "code",
        "outputId": "09efa3f4-6ed7-4d5c-954a-5c21e89d330b",
        "colab": {
          "base_uri": "https://localhost:8080/",
          "height": 225
        }
      },
      "source": [
        "for i in nacol.column:\n",
        "    try:\n",
        "        x_or[i] = np.where(np.isnan(x_or[i]),0, x_or[i])\n",
        "    except:\n",
        "        x_or[i] = np.where(x_or[i].isna(),\"No\", x_or[i])\n",
        "#x.isna().any()"
      ],
      "execution_count": 100,
      "outputs": [
        {
          "output_type": "stream",
          "text": [
            "/usr/local/lib/python3.6/dist-packages/ipykernel_launcher.py:5: SettingWithCopyWarning: \n",
            "A value is trying to be set on a copy of a slice from a DataFrame.\n",
            "Try using .loc[row_indexer,col_indexer] = value instead\n",
            "\n",
            "See the caveats in the documentation: http://pandas.pydata.org/pandas-docs/stable/user_guide/indexing.html#returning-a-view-versus-a-copy\n",
            "  \"\"\"\n",
            "/usr/local/lib/python3.6/dist-packages/ipykernel_launcher.py:3: SettingWithCopyWarning: \n",
            "A value is trying to be set on a copy of a slice from a DataFrame.\n",
            "Try using .loc[row_indexer,col_indexer] = value instead\n",
            "\n",
            "See the caveats in the documentation: http://pandas.pydata.org/pandas-docs/stable/user_guide/indexing.html#returning-a-view-versus-a-copy\n",
            "  This is separate from the ipykernel package so we can avoid doing imports until\n"
          ],
          "name": "stderr"
        }
      ]
    },
    {
      "cell_type": "code",
      "metadata": {
        "id": "gS4DmadS6WOY",
        "colab_type": "code",
        "outputId": "2adaed77-b88b-47e0-dbcd-b02aa1a12ab7",
        "colab": {
          "base_uri": "https://localhost:8080/",
          "height": 104
        }
      },
      "source": [
        "x_or.columns"
      ],
      "execution_count": 101,
      "outputs": [
        {
          "output_type": "execute_result",
          "data": {
            "text/plain": [
              "Index(['visitNumber', 'visitStartTime', 'channelGrouping', 'referralPath',\n",
              "       'campaign', 'source', 'medium', 'keyword', 'adContent', 'page', 'slot',\n",
              "       'adNetworkType', 'browser', 'operatingSystem', 'deviceCategory',\n",
              "       'country', 'city', 'networkDomain', 'page1', 'page2', 'dow', 'hour'],\n",
              "      dtype='object')"
            ]
          },
          "metadata": {
            "tags": []
          },
          "execution_count": 101
        }
      ]
    },
    {
      "cell_type": "markdown",
      "metadata": {
        "id": "jwMMk64E6WOd",
        "colab_type": "text"
      },
      "source": [
        "# Label encode categoricals"
      ]
    },
    {
      "cell_type": "code",
      "metadata": {
        "id": "i28QxTMs6WOf",
        "colab_type": "code",
        "colab": {}
      },
      "source": [
        "#xcat = ['channelGrouping', 'referralPath',\n",
        " #      'campaign', 'source', 'medium', 'keyword', 'adContent', 'page', 'slot',\n",
        " #      'adNetworkType', 'browser', 'operatingSystem', 'deviceCategory',\n",
        "  #     'country','dow', 'hour']\n",
        "   \n",
        "\n",
        "xcat = ['channelGrouping', 'referralPath',\n",
        "       'campaign', 'source', 'medium', 'keyword', 'adContent', 'page', 'slot',\n",
        "       'adNetworkType', 'browser', 'operatingSystem', 'deviceCategory',\n",
        "       'country', 'city','dow', 'hour', 'page1', 'page2', 'networkDomain']"
      ],
      "execution_count": 0,
      "outputs": []
    },
    {
      "cell_type": "code",
      "metadata": {
        "id": "Le2brh2_6WOk",
        "colab_type": "code",
        "outputId": "78b13e9c-0530-4e8a-eed1-9c6fad02e197",
        "colab": {
          "base_uri": "https://localhost:8080/",
          "height": 121
        }
      },
      "source": [
        "le = preprocessing.LabelEncoder()\n",
        "\n",
        "for i in xcat:\n",
        "    x_or[i] = le.fit_transform(x_or[i])"
      ],
      "execution_count": 103,
      "outputs": [
        {
          "output_type": "stream",
          "text": [
            "/usr/local/lib/python3.6/dist-packages/ipykernel_launcher.py:4: SettingWithCopyWarning: \n",
            "A value is trying to be set on a copy of a slice from a DataFrame.\n",
            "Try using .loc[row_indexer,col_indexer] = value instead\n",
            "\n",
            "See the caveats in the documentation: http://pandas.pydata.org/pandas-docs/stable/user_guide/indexing.html#returning-a-view-versus-a-copy\n",
            "  after removing the cwd from sys.path.\n"
          ],
          "name": "stderr"
        }
      ]
    },
    {
      "cell_type": "code",
      "metadata": {
        "id": "xcsRlChW6WOn",
        "colab_type": "code",
        "colab": {}
      },
      "source": [
        "x_or = x_or.drop([\"visitStartTime\"], axis = 1)"
      ],
      "execution_count": 0,
      "outputs": []
    },
    {
      "cell_type": "code",
      "metadata": {
        "id": "XArkgH3p6WOp",
        "colab_type": "code",
        "outputId": "3d515de5-5b6a-4c0a-ecbb-c811ac148959",
        "colab": {
          "base_uri": "https://localhost:8080/",
          "height": 222
        }
      },
      "source": [
        "x_or.head()"
      ],
      "execution_count": 105,
      "outputs": [
        {
          "output_type": "execute_result",
          "data": {
            "text/html": [
              "<div>\n",
              "<style scoped>\n",
              "    .dataframe tbody tr th:only-of-type {\n",
              "        vertical-align: middle;\n",
              "    }\n",
              "\n",
              "    .dataframe tbody tr th {\n",
              "        vertical-align: top;\n",
              "    }\n",
              "\n",
              "    .dataframe thead th {\n",
              "        text-align: right;\n",
              "    }\n",
              "</style>\n",
              "<table border=\"1\" class=\"dataframe\">\n",
              "  <thead>\n",
              "    <tr style=\"text-align: right;\">\n",
              "      <th></th>\n",
              "      <th>visitNumber</th>\n",
              "      <th>channelGrouping</th>\n",
              "      <th>referralPath</th>\n",
              "      <th>campaign</th>\n",
              "      <th>source</th>\n",
              "      <th>medium</th>\n",
              "      <th>keyword</th>\n",
              "      <th>adContent</th>\n",
              "      <th>page</th>\n",
              "      <th>slot</th>\n",
              "      <th>adNetworkType</th>\n",
              "      <th>browser</th>\n",
              "      <th>operatingSystem</th>\n",
              "      <th>deviceCategory</th>\n",
              "      <th>country</th>\n",
              "      <th>city</th>\n",
              "      <th>networkDomain</th>\n",
              "      <th>page1</th>\n",
              "      <th>page2</th>\n",
              "      <th>dow</th>\n",
              "      <th>hour</th>\n",
              "    </tr>\n",
              "  </thead>\n",
              "  <tbody>\n",
              "    <tr>\n",
              "      <th>0</th>\n",
              "      <td>1</td>\n",
              "      <td>4</td>\n",
              "      <td>1313</td>\n",
              "      <td>0</td>\n",
              "      <td>0</td>\n",
              "      <td>0</td>\n",
              "      <td>204</td>\n",
              "      <td>24</td>\n",
              "      <td>0</td>\n",
              "      <td>0</td>\n",
              "      <td>1</td>\n",
              "      <td>11</td>\n",
              "      <td>15</td>\n",
              "      <td>0</td>\n",
              "      <td>211</td>\n",
              "      <td>784</td>\n",
              "      <td>15305</td>\n",
              "      <td>136</td>\n",
              "      <td>78</td>\n",
              "      <td>3</td>\n",
              "      <td>23</td>\n",
              "    </tr>\n",
              "    <tr>\n",
              "      <th>1</th>\n",
              "      <td>1</td>\n",
              "      <td>4</td>\n",
              "      <td>1313</td>\n",
              "      <td>0</td>\n",
              "      <td>0</td>\n",
              "      <td>0</td>\n",
              "      <td>204</td>\n",
              "      <td>24</td>\n",
              "      <td>0</td>\n",
              "      <td>0</td>\n",
              "      <td>1</td>\n",
              "      <td>11</td>\n",
              "      <td>15</td>\n",
              "      <td>0</td>\n",
              "      <td>210</td>\n",
              "      <td>418</td>\n",
              "      <td>3256</td>\n",
              "      <td>136</td>\n",
              "      <td>78</td>\n",
              "      <td>3</td>\n",
              "      <td>7</td>\n",
              "    </tr>\n",
              "    <tr>\n",
              "      <th>2</th>\n",
              "      <td>1</td>\n",
              "      <td>4</td>\n",
              "      <td>1313</td>\n",
              "      <td>0</td>\n",
              "      <td>0</td>\n",
              "      <td>0</td>\n",
              "      <td>204</td>\n",
              "      <td>24</td>\n",
              "      <td>0</td>\n",
              "      <td>0</td>\n",
              "      <td>1</td>\n",
              "      <td>11</td>\n",
              "      <td>1</td>\n",
              "      <td>1</td>\n",
              "      <td>12</td>\n",
              "      <td>48</td>\n",
              "      <td>16847</td>\n",
              "      <td>136</td>\n",
              "      <td>78</td>\n",
              "      <td>3</td>\n",
              "      <td>23</td>\n",
              "    </tr>\n",
              "    <tr>\n",
              "      <th>3</th>\n",
              "      <td>1</td>\n",
              "      <td>5</td>\n",
              "      <td>1313</td>\n",
              "      <td>0</td>\n",
              "      <td>0</td>\n",
              "      <td>0</td>\n",
              "      <td>204</td>\n",
              "      <td>24</td>\n",
              "      <td>1</td>\n",
              "      <td>2</td>\n",
              "      <td>0</td>\n",
              "      <td>40</td>\n",
              "      <td>18</td>\n",
              "      <td>1</td>\n",
              "      <td>211</td>\n",
              "      <td>680</td>\n",
              "      <td>0</td>\n",
              "      <td>136</td>\n",
              "      <td>78</td>\n",
              "      <td>3</td>\n",
              "      <td>20</td>\n",
              "    </tr>\n",
              "    <tr>\n",
              "      <th>4</th>\n",
              "      <td>2</td>\n",
              "      <td>4</td>\n",
              "      <td>1313</td>\n",
              "      <td>0</td>\n",
              "      <td>0</td>\n",
              "      <td>0</td>\n",
              "      <td>204</td>\n",
              "      <td>24</td>\n",
              "      <td>0</td>\n",
              "      <td>0</td>\n",
              "      <td>1</td>\n",
              "      <td>11</td>\n",
              "      <td>15</td>\n",
              "      <td>0</td>\n",
              "      <td>74</td>\n",
              "      <td>276</td>\n",
              "      <td>9334</td>\n",
              "      <td>136</td>\n",
              "      <td>78</td>\n",
              "      <td>3</td>\n",
              "      <td>4</td>\n",
              "    </tr>\n",
              "  </tbody>\n",
              "</table>\n",
              "</div>"
            ],
            "text/plain": [
              "   visitNumber  channelGrouping  referralPath  ...  page2  dow  hour\n",
              "0            1                4          1313  ...     78    3    23\n",
              "1            1                4          1313  ...     78    3     7\n",
              "2            1                4          1313  ...     78    3    23\n",
              "3            1                5          1313  ...     78    3    20\n",
              "4            2                4          1313  ...     78    3     4\n",
              "\n",
              "[5 rows x 21 columns]"
            ]
          },
          "metadata": {
            "tags": []
          },
          "execution_count": 105
        }
      ]
    },
    {
      "cell_type": "code",
      "metadata": {
        "id": "jmFsSuxjnk5f",
        "colab_type": "code",
        "colab": {}
      },
      "source": [
        "x, x_test, y, y_test = train_test_split(x_or, y_or, test_size=0.3, random_state=42)"
      ],
      "execution_count": 0,
      "outputs": []
    },
    {
      "cell_type": "markdown",
      "metadata": {
        "id": "HwfiaSEn6WOr",
        "colab_type": "text"
      },
      "source": [
        "# Random Forest Classifier"
      ]
    },
    {
      "cell_type": "code",
      "metadata": {
        "id": "6OzCGler6WOs",
        "colab_type": "code",
        "outputId": "d3abc86b-3e64-466f-cc46-0d3b758a882d",
        "colab": {
          "base_uri": "https://localhost:8080/",
          "height": 138
        }
      },
      "source": [
        "rf = RandomForestClassifier(n_estimators= 7)\n",
        "rf.fit(x, y) "
      ],
      "execution_count": 107,
      "outputs": [
        {
          "output_type": "execute_result",
          "data": {
            "text/plain": [
              "RandomForestClassifier(bootstrap=True, class_weight=None, criterion='gini',\n",
              "                       max_depth=None, max_features='auto', max_leaf_nodes=None,\n",
              "                       min_impurity_decrease=0.0, min_impurity_split=None,\n",
              "                       min_samples_leaf=1, min_samples_split=2,\n",
              "                       min_weight_fraction_leaf=0.0, n_estimators=7,\n",
              "                       n_jobs=None, oob_score=False, random_state=None,\n",
              "                       verbose=0, warm_start=False)"
            ]
          },
          "metadata": {
            "tags": []
          },
          "execution_count": 107
        }
      ]
    },
    {
      "cell_type": "code",
      "metadata": {
        "id": "QS69j43C6WOu",
        "colab_type": "code",
        "colab": {}
      },
      "source": [
        "ypred_test = rf.predict(x_test)"
      ],
      "execution_count": 0,
      "outputs": []
    },
    {
      "cell_type": "code",
      "metadata": {
        "id": "nrW04aDcoMno",
        "colab_type": "code",
        "colab": {}
      },
      "source": [
        "rf_acc = accuracy_score(y_test,ypred_test)\n",
        "rf_pscore = precision_score(y_test,ypred_test)\n",
        "rf_recall = recall_score(y_test,ypred_test)\n",
        "rf_f1 = f1_score(y_test,ypred_test)\n",
        "\n",
        "#print('Accuracy Score : ' + str(accuracy_score(y_test,ypred_test)))\n",
        "#print('Precision Score : ' + str(precision_score(y_test,ypred_test)))\n",
        "#print('F1 Score : ' + str(f1_score(y_test,ypred_test)))\n",
        "\n",
        "# nest =7\n",
        "#Accuracy Score : 0.9851826326671261\n",
        "#Precision Score : 0.9252190725668132\n",
        "#1 Score : 0.9151167453193918"
      ],
      "execution_count": 0,
      "outputs": []
    },
    {
      "cell_type": "code",
      "metadata": {
        "id": "cHDaDdBcydyN",
        "colab_type": "code",
        "outputId": "a5e17dda-0181-41d4-8988-8bdf9a006703",
        "colab": {
          "base_uri": "https://localhost:8080/",
          "height": 34
        }
      },
      "source": [
        "scores = cross_val_score(rf, x, y, scoring = \"precision\", cv=5)\n",
        "scores"
      ],
      "execution_count": 110,
      "outputs": [
        {
          "output_type": "execute_result",
          "data": {
            "text/plain": [
              "array([0.89095698, 0.89659024, 0.88934307, 0.89179039, 0.88670554])"
            ]
          },
          "metadata": {
            "tags": []
          },
          "execution_count": 110
        }
      ]
    },
    {
      "cell_type": "markdown",
      "metadata": {
        "id": "vDpVJfOV6WOw",
        "colab_type": "text"
      },
      "source": [
        "# RF Confusion Matrix"
      ]
    },
    {
      "cell_type": "code",
      "metadata": {
        "id": "cqE_8eI16WO8",
        "colab_type": "code",
        "outputId": "64b01dd5-73de-464c-e01e-3339d51608b4",
        "colab": {
          "base_uri": "https://localhost:8080/",
          "height": 52
        }
      },
      "source": [
        "ypred = rf.predict(x)\n",
        "confusion_matrix(y_test, ypred_test)"
      ],
      "execution_count": 111,
      "outputs": [
        {
          "output_type": "execute_result",
          "data": {
            "text/plain": [
              "array([[667655,   3679],\n",
              "       [  6780,  33341]])"
            ]
          },
          "metadata": {
            "tags": []
          },
          "execution_count": 111
        }
      ]
    },
    {
      "cell_type": "markdown",
      "metadata": {
        "id": "GWnM8cTS6WO-",
        "colab_type": "text"
      },
      "source": [
        "# RF feature importances"
      ]
    },
    {
      "cell_type": "code",
      "metadata": {
        "id": "qbY4qb6m6WO_",
        "colab_type": "code",
        "outputId": "7fd4349d-d6c2-4dad-bc0a-8272a66cc999",
        "colab": {
          "base_uri": "https://localhost:8080/",
          "height": 398
        }
      },
      "source": [
        "pd.Series(rf.feature_importances_, index=x.columns).sort_values(ascending=False)"
      ],
      "execution_count": 112,
      "outputs": [
        {
          "output_type": "execute_result",
          "data": {
            "text/plain": [
              "hour               0.233841\n",
              "city               0.131106\n",
              "networkDomain      0.130994\n",
              "dow                0.124967\n",
              "visitNumber        0.118487\n",
              "page1              0.077787\n",
              "operatingSystem    0.045386\n",
              "country            0.031570\n",
              "channelGrouping    0.025363\n",
              "referralPath       0.018377\n",
              "browser            0.014713\n",
              "source             0.011431\n",
              "deviceCategory     0.009036\n",
              "medium             0.007669\n",
              "page2              0.007586\n",
              "keyword            0.004730\n",
              "adContent          0.002387\n",
              "campaign           0.001293\n",
              "slot               0.001232\n",
              "adNetworkType      0.001056\n",
              "page               0.000989\n",
              "dtype: float64"
            ]
          },
          "metadata": {
            "tags": []
          },
          "execution_count": 112
        }
      ]
    },
    {
      "cell_type": "markdown",
      "metadata": {
        "id": "26KbYqhZ6WPC",
        "colab_type": "text"
      },
      "source": [
        "# RF Probabilities"
      ]
    },
    {
      "cell_type": "code",
      "metadata": {
        "id": "5cBCyKhC6WPD",
        "colab_type": "code",
        "colab": {}
      },
      "source": [
        "yproba_rf = rf.predict_proba(x_test)\n",
        "yproba_rf = yproba_rf[:,1]"
      ],
      "execution_count": 0,
      "outputs": []
    },
    {
      "cell_type": "code",
      "metadata": {
        "id": "viEzAL1B90jC",
        "colab_type": "code",
        "outputId": "9b907e3c-cab2-4fde-bb91-24613e828ff8",
        "colab": {
          "base_uri": "https://localhost:8080/",
          "height": 190
        }
      },
      "source": [
        "for i in list(range(0,99,10)):\n",
        "    i = i/100\n",
        "    yproba_rf = rf.predict_proba(x_test)\n",
        "    yproba_rf = yproba_rf[:,1]\n",
        "    yproba_rf[yproba_rf>i] = 1\n",
        "    yproba_rf[yproba_rf<=i] = 0\n",
        "    #print(i, \" \", precision_score(y, yproba_rf))   \n",
        "    print(i, \" \",precision_score(y_test,yproba_rf), recall_score(y_test,yproba_rf), f1_score(y_test, yproba_rf))\n",
        "    #print cut off and false results"
      ],
      "execution_count": 114,
      "outputs": [
        {
          "output_type": "stream",
          "text": [
            "0.0   0.46570058889375576 0.9539891827222652 0.6258738114120793\n",
            "0.1   0.5100001348635855 0.9425487899105207 0.6618710072634987\n",
            "0.2   0.7111939424690683 0.90832730988759 0.7977627704869585\n",
            "0.3   0.8157541537464711 0.8786421076244361 0.8460310793784125\n",
            "0.4   0.8445443879546344 0.8611948854714488 0.8527883701701776\n",
            "0.5   0.900621285791464 0.831011191146781 0.8644171063377452\n",
            "0.6   0.936001889243122 0.7903093143241694 0.8570077165290485\n",
            "0.7   0.9515636094217886 0.7682759652052541 0.8501530738891799\n",
            "0.8   0.9705213109186619 0.7122703820941652 0.8215795072305436\n",
            "0.9   0.9838380668445003 0.6251090451384562 0.7644826482556811\n"
          ],
          "name": "stdout"
        }
      ]
    },
    {
      "cell_type": "code",
      "metadata": {
        "id": "_RqAaMfe-rZc",
        "colab_type": "code",
        "outputId": "2f558921-694f-4c8e-fa74-9b1f888aef61",
        "colab": {
          "base_uri": "https://localhost:8080/",
          "height": 34
        }
      },
      "source": [
        "yproba_rf = rf.predict_proba(x_test)\n",
        "yproba_rf = yproba_rf[:,1]\n",
        "yproba_rf[yproba_rf>0.5] = 1\n",
        "yproba_rf[yproba_rf<=0.5] = 0\n",
        "\n",
        "print(precision_score(y_test,yproba_rf))"
      ],
      "execution_count": 115,
      "outputs": [
        {
          "output_type": "stream",
          "text": [
            "0.900621285791464\n"
          ],
          "name": "stdout"
        }
      ]
    },
    {
      "cell_type": "markdown",
      "metadata": {
        "id": "rHgyDwNd6WPL",
        "colab_type": "text"
      },
      "source": [
        "# Grid search"
      ]
    },
    {
      "cell_type": "code",
      "metadata": {
        "id": "VryPasW_6WPR",
        "colab_type": "code",
        "outputId": "1c8349c5-5c6c-4928-e309-80a986b0de35",
        "colab": {
          "base_uri": "https://localhost:8080/",
          "height": 433
        }
      },
      "source": [
        "rf = RandomForestClassifier()\n",
        "\n",
        "param_grid = { \n",
        "    'n_estimators': list(range(2,30,10)),\n",
        "    'max_features': ['auto'], \n",
        "    'max_depth': list(range(3,15)),  \n",
        "}\n",
        " \n",
        "np.random.seed(0)\n",
        "grid_search = GridSearchCV(rf,param_grid, scoring = 'f1', cv=5,return_train_score=True, verbose = True, n_jobs =-1)\n",
        "grid_search.fit(x,y)"
      ],
      "execution_count": 117,
      "outputs": [
        {
          "output_type": "stream",
          "text": [
            "Fitting 5 folds for each of 36 candidates, totalling 180 fits\n"
          ],
          "name": "stdout"
        },
        {
          "output_type": "stream",
          "text": [
            "[Parallel(n_jobs=-1)]: Using backend LokyBackend with 2 concurrent workers.\n",
            "[Parallel(n_jobs=-1)]: Done  46 tasks      | elapsed:  7.5min\n",
            "[Parallel(n_jobs=-1)]: Done 180 out of 180 | elapsed: 48.2min finished\n"
          ],
          "name": "stderr"
        },
        {
          "output_type": "execute_result",
          "data": {
            "text/plain": [
              "GridSearchCV(cv=5, error_score='raise-deprecating',\n",
              "             estimator=RandomForestClassifier(bootstrap=True, class_weight=None,\n",
              "                                              criterion='gini', max_depth=None,\n",
              "                                              max_features='auto',\n",
              "                                              max_leaf_nodes=None,\n",
              "                                              min_impurity_decrease=0.0,\n",
              "                                              min_impurity_split=None,\n",
              "                                              min_samples_leaf=1,\n",
              "                                              min_samples_split=2,\n",
              "                                              min_weight_fraction_leaf=0.0,\n",
              "                                              n_estimators='warn', n_jobs=None,\n",
              "                                              oob_score=False,\n",
              "                                              random_state=None, verbose=0,\n",
              "                                              warm_start=False),\n",
              "             iid='warn', n_jobs=-1,\n",
              "             param_grid={'max_depth': [3, 4, 5, 6, 7, 8, 9, 10, 11, 12, 13, 14],\n",
              "                         'max_features': ['auto'],\n",
              "                         'n_estimators': [2, 12, 22]},\n",
              "             pre_dispatch='2*n_jobs', refit=True, return_train_score=True,\n",
              "             scoring='f1', verbose=True)"
            ]
          },
          "metadata": {
            "tags": []
          },
          "execution_count": 117
        }
      ]
    },
    {
      "cell_type": "code",
      "metadata": {
        "id": "DxRA9W90bXhw",
        "colab_type": "code",
        "colab": {
          "base_uri": "https://localhost:8080/",
          "height": 52
        },
        "outputId": "88527c04-6841-452d-ef06-86b6d542a232"
      },
      "source": [
        "ypred_test_rfgs = grid_search.predict(x_test)\n",
        "confusion_matrix(y_test, ypred_test_rfgs)"
      ],
      "execution_count": 118,
      "outputs": [
        {
          "output_type": "execute_result",
          "data": {
            "text/plain": [
              "array([[670546,    788],\n",
              "       [ 35728,   4393]])"
            ]
          },
          "metadata": {
            "tags": []
          },
          "execution_count": 118
        }
      ]
    },
    {
      "cell_type": "code",
      "metadata": {
        "id": "ucE20tuZeOFL",
        "colab_type": "code",
        "colab": {}
      },
      "source": [
        "yproba_rf = grid_search.predict_proba(x_test)\n",
        "yproba_rf = yproba_rf[:,1]\n",
        "yproba_rf[yproba_rf>0.2] = 1\n",
        "yproba_rf[yproba_rf<=0.2] = 0\n",
        "\n",
        "rfgs_acc = accuracy_score(y_test,ypred_test_rfgs)\n",
        "rfgs_pscore = precision_score(y_test,ypred_test_rfgs)\n",
        "rfgs_recall = recall_score(y_test,ypred_test_rfgs)\n",
        "rfgs_f1 = f1_score(y_test,ypred_test_rfgs)"
      ],
      "execution_count": 0,
      "outputs": []
    },
    {
      "cell_type": "code",
      "metadata": {
        "id": "ONMVb0PLkecc",
        "colab_type": "code",
        "colab": {
          "base_uri": "https://localhost:8080/",
          "height": 34
        },
        "outputId": "d1f1716e-c9df-48ef-ea01-140f9e242a96"
      },
      "source": [
        "grid_search.best_params_"
      ],
      "execution_count": 120,
      "outputs": [
        {
          "output_type": "execute_result",
          "data": {
            "text/plain": [
              "{'max_depth': 14, 'max_features': 'auto', 'n_estimators': 2}"
            ]
          },
          "metadata": {
            "tags": []
          },
          "execution_count": 120
        }
      ]
    },
    {
      "cell_type": "code",
      "metadata": {
        "id": "giimUqFbqhn7",
        "colab_type": "code",
        "outputId": "7bdf6b3a-4675-454b-dd6f-f4eac12b8edb",
        "colab": {
          "base_uri": "https://localhost:8080/",
          "height": 190
        }
      },
      "source": [
        "for i in list(range(0,99,10)):\n",
        "    i = i/100\n",
        "    yproba_rf = grid_search.predict_proba(x_test)\n",
        "    yproba_rf = yproba_rf[:,1]\n",
        "    yproba_rf[yproba_rf>i] = 1\n",
        "    yproba_rf[yproba_rf<=i] = 0\n",
        "    #print(i, \" \", precision_score(y, yproba_rf))   \n",
        "    print(i, \" \",precision_score(y_test,yproba_rf), recall_score(y_test,yproba_rf), f1_score(y_test, yproba_rf))\n",
        "    #print cut off and false results"
      ],
      "execution_count": 121,
      "outputs": [
        {
          "output_type": "stream",
          "text": [
            "0.0   0.07968707721202668 0.9982802023877769 0.14759266458708362\n",
            "0.1   0.23888220684484293 0.7623439096732385 0.36377476079186966\n",
            "0.2   0.3547431159058369 0.5310934423369308 0.42536456825735874\n",
            "0.3   0.5224111282843895 0.30328257022506916 0.38376988945484364\n",
            "0.4   0.6955447989726365 0.17549413025597568 0.28027227131597804\n",
            "0.5   0.8479058096892492 0.10949378131153262 0.19394287227936954\n",
            "0.6   0.9250191277735271 0.060267690237032975 0.11316251316251316\n",
            "0.7   0.9632164242942686 0.028065103063233718 0.05454105110196174\n",
            "0.8   0.9810554803788903 0.018070337229879614 0.03548702887909937\n",
            "0.9   0.9892933618843683 0.011515166620971561 0.022765349364344142\n"
          ],
          "name": "stdout"
        }
      ]
    },
    {
      "cell_type": "code",
      "metadata": {
        "id": "TB7AXTq3_6zN",
        "colab_type": "code",
        "colab": {
          "base_uri": "https://localhost:8080/",
          "height": 285
        },
        "outputId": "e46b25b1-4f55-4b31-af98-74894128d553"
      },
      "source": [
        "bestrf = grid_search.best_estimator_\n",
        "rf_fi = pd.Series(bestrf.feature_importances_, index=x.columns).sort_values(ascending=False)\n",
        "rf_fi = pd.DataFrame(rf_fi)\n",
        "rf_fi = rf_fi.reset_index().head(5)\n",
        "rf_fi.columns = [\"Features\", \"Importances\"]\n",
        "\n",
        "sns.barplot(x=\"Importances\", y=\"Features\",  data=rf_fi, palette = goog)\n",
        "plt.savefig(\"featimp_rf.png\", bbox_inches='tight')"
      ],
      "execution_count": 147,
      "outputs": [
        {
          "output_type": "display_data",
          "data": {
            "image/png": "[encoded data removed]",
            "text/plain": [
              "<Figure size 432x288 with 1 Axes>"
            ]
          },
          "metadata": {
            "tags": []
          }
        }
      ]
    },
    {
      "cell_type": "markdown",
      "metadata": {
        "id": "CdAGy_4HG_kF",
        "colab_type": "text"
      },
      "source": [
        "# Boost"
      ]
    },
    {
      "cell_type": "code",
      "metadata": {
        "id": "Y0SCpORWG6a8",
        "colab_type": "code",
        "colab": {
          "base_uri": "https://localhost:8080/",
          "height": 141
        },
        "outputId": "2be17ea2-ccba-40cb-8d73-7827d522ff23"
      },
      "source": [
        "np.random.seed(0)\n",
        "param_grid = [\n",
        "    {'subsample':[0.5,1],\n",
        "    'learning_rate':[0.025,0.05,0.1],\n",
        "    'max_depth':[2,3,4],\n",
        "    'n_estimators':list(range(2,30,10))}]\n",
        "boost = GradientBoostingClassifier()\n",
        "boostgs = GridSearchCV(boost,param_grid, cv=5, scoring='precision',return_train_score=True, n_jobs=-1, verbose= True)\n",
        "np.random.seed(0)\n",
        "boostgs.fit(x,y)\n",
        "\n",
        "ypred_boost_test=boostgs.predict(x_test)\n",
        "\n",
        "print('Accuracy Score : ' + str(accuracy_score(y_test,ypred_boost_test)))\n",
        "print('Precision Score : ' + str(precision_score(y_test,ypred_boost_test)))\n",
        "print('F1 Score : ' + str(f1_score(y_test,ypred_boost_test)))"
      ],
      "execution_count": 0,
      "outputs": [
        {
          "output_type": "stream",
          "text": [
            "Fitting 5 folds for each of 54 candidates, totalling 270 fits\n"
          ],
          "name": "stdout"
        },
        {
          "output_type": "stream",
          "text": [
            "[Parallel(n_jobs=-1)]: Using backend LokyBackend with 2 concurrent workers.\n",
            "[Parallel(n_jobs=-1)]: Done  46 tasks      | elapsed: 11.2min\n",
            "/usr/local/lib/python3.6/dist-packages/joblib/externals/loky/process_executor.py:706: UserWarning: A worker stopped while some jobs were given to the executor. This can be caused by a too short worker timeout or by a memory leak.\n",
            "  \"timeout or by a memory leak.\", UserWarning\n",
            "[Parallel(n_jobs=-1)]: Done 196 tasks      | elapsed: 76.3min\n"
          ],
          "name": "stderr"
        }
      ]
    },
    {
      "cell_type": "code",
      "metadata": {
        "id": "A19AEDNCKzpg",
        "colab_type": "code",
        "colab": {}
      },
      "source": [
        "ypred_boost_test=boostgs.predict(x_test)\n",
        "\n",
        "confusion_matrix(y_test, ypred_boost_test)\n",
        "print('Accuracy Score : ' + str(accuracy_score(y_test,ypred_boost_test)))\n",
        "print('Precision Score : ' + str(precision_score(y_test,ypred_boost_test)))\n",
        "print('F1 Score : ' + str(f1_score(y_test,ypred_boost_test)))\n",
        "\n",
        "\n",
        "gb_acc = accuracy_score(y_test,ypred_boost_test)\n",
        "gb_pscore = precision_score(y_test,ypred_boost_test)\n",
        "gb_recall = recall_score(y_test,ypred_boost_test)\n",
        "gb_f1 = f1_score(y_test,ypred_boost_test)"
      ],
      "execution_count": 0,
      "outputs": []
    },
    {
      "cell_type": "code",
      "metadata": {
        "id": "ejCNvcOWMNG2",
        "colab_type": "code",
        "colab": {}
      },
      "source": [
        "for i in list(range(0,99,10)):\n",
        "    i = i/100\n",
        "    yproba_gb = boostgs.predict_proba(x_test)\n",
        "    yproba_gb = yproba_gb[:,1]\n",
        "    yproba_gb[yproba_gb>i] = 1\n",
        "    yproba_gb[yproba_gb<=i] = 0\n",
        "    #print(i, \" \", precision_score(y, yproba_rf))   \n",
        "    print(i, \" \", precision_score(y_test,yproba_gb), recall_score(y_test,yproba_gb))\n",
        "    #print cut off and false results"
      ],
      "execution_count": 0,
      "outputs": []
    },
    {
      "cell_type": "markdown",
      "metadata": {
        "id": "L3gf_kqrwAO8",
        "colab_type": "text"
      },
      "source": [
        "Scores"
      ]
    },
    {
      "cell_type": "code",
      "metadata": {
        "id": "4jspPTZtv_dB",
        "colab_type": "code",
        "outputId": "a122fbec-9d5e-4d33-d327-2e3c45322194",
        "colab": {
          "base_uri": "https://localhost:8080/",
          "height": 372
        }
      },
      "source": [
        "scores = pd.DataFrame({'Type':['Accuracy', 'Precision', 'Recall', 'F1'], 'Random Forest':[rfgs_acc, rfgs_pscore, rfgs_recall, rf_f1]})\n",
        "                   #   \"GB\": [gb_acc, gb_pscore, gb_recall, gb_f1]})\n",
        "#scores = pd.melt(scores, id_vars = \"Type\", value_vars=['Random Forest', 'GB'])\n",
        "scores = pd.melt(scores, id_vars = \"Type\", value_vars=['Random Forest'])\n",
        "scores.columns = [\"Type\", \"Model\", \"Score\"]\n",
        "print(scores)\n",
        "\n",
        "goog = [\"#4285F4\", \"#DB4437\", \"#F4B400\", \"#0F9D58\"]\n",
        "\n",
        "sns.set(style=\"whitegrid\")\n",
        "sns.despine()\n",
        "sns.barplot(x=\"Score\", y=\"Type\", data=scores,  palette = goog)\n",
        "plt.savefig(\"rf_scores.png\", bbox_inches='tight')"
      ],
      "execution_count": 148,
      "outputs": [
        {
          "output_type": "stream",
          "text": [
            "        Type          Model     Score\n",
            "0   Accuracy  Random Forest  0.948674\n",
            "1  Precision  Random Forest  0.847906\n",
            "2     Recall  Random Forest  0.109494\n",
            "3         F1  Random Forest  0.864417\n"
          ],
          "name": "stdout"
        },
        {
          "output_type": "display_data",
          "data": {
            "image/png": "[encoded data removed]",
            "text/plain": [
              "<Figure size 432x288 with 1 Axes>"
            ]
          },
          "metadata": {
            "tags": []
          }
        }
      ]
    }
  ]
}